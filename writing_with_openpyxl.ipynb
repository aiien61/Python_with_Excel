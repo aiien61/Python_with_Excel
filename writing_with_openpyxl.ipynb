{
 "cells": [
  {
   "cell_type": "code",
   "execution_count": 12,
   "id": "cd690864-6452-4d12-83d4-90c84500b524",
   "metadata": {},
   "outputs": [],
   "source": [
    "import excel\n",
    "import openpyxl\n",
    "import datetime as dt\n",
    "from openpyxl.drawing.image import Image\n",
    "from openpyxl.chart import BarChart, Reference\n",
    "from openpyxl.styles import Font, colors\n",
    "from openpyxl.styles.borders import Border, Side\n",
    "from openpyxl.styles.alignment import Alignment\n",
    "from openpyxl.styles.fills import PatternFill"
   ]
  },
  {
   "cell_type": "code",
   "execution_count": 2,
   "id": "4697eca2-7ee5-44dd-bc90-84b7f82f33cc",
   "metadata": {},
   "outputs": [],
   "source": [
    "# Instantiate a workbook\n",
    "book = openpyxl.Workbook()"
   ]
  },
  {
   "cell_type": "code",
   "execution_count": 3,
   "id": "dc16a3f8-87e1-41d6-8989-8395877f6f42",
   "metadata": {},
   "outputs": [],
   "source": [
    "# Get the first sheet and give it a name\n",
    "sheet = book.active\n",
    "sheet.title = 'Sheet1'"
   ]
  },
  {
   "cell_type": "code",
   "execution_count": 4,
   "id": "25f184b6-c110-44b5-9279-de92a142d925",
   "metadata": {},
   "outputs": [],
   "source": [
    "# Writing individual cells using A1 notation\n",
    "sheet['A1'].value = 'Hello 1'"
   ]
  },
  {
   "cell_type": "code",
   "execution_count": 6,
   "id": "bac9b4c6-faf4-4ac5-9508-9e3dc45e2e5d",
   "metadata": {},
   "outputs": [
    {
     "data": {
      "text/plain": [
       "<Cell 'Sheet1'.A2>"
      ]
     },
     "execution_count": 6,
     "metadata": {},
     "output_type": "execute_result"
    }
   ],
   "source": [
    "# or using indices (1-based)\n",
    "sheet.cell(row=2, column=1, value='Hello 2')"
   ]
  },
  {
   "cell_type": "code",
   "execution_count": 9,
   "id": "2106285f-1da3-4d49-8e48-74a3ec3efc5d",
   "metadata": {},
   "outputs": [],
   "source": [
    "# Formatting: fill colour, alignment, border and font\n",
    "font_format = Font(color='FF0000', bold=True)\n",
    "thin = Side(border_style='thin', color='FF0000')\n",
    "sheet['A3'].value = 'Hello 3'\n",
    "sheet['A3'].font = font_format\n",
    "sheet['A3'].border = Border(top=thin, left=thin, right=thin, bottom=thin)\n",
    "sheet['A3'].alignment = Alignment(horizontal='center')\n",
    "sheet['A3'].fill = PatternFill(fgColor='FFFF00', fill_type='solid')"
   ]
  },
  {
   "cell_type": "code",
   "execution_count": 10,
   "id": "3e1c62dd-77cc-43bd-825e-531126681392",
   "metadata": {},
   "outputs": [],
   "source": [
    "# Number formatting (using Excel's formatting strings)\n",
    "sheet['A4'].value = 3.3333\n",
    "sheet['A4'].number_format = '0.00'"
   ]
  },
  {
   "cell_type": "code",
   "execution_count": 13,
   "id": "1bc74f96-3b48-4e14-a7bb-5160ca75e54d",
   "metadata": {},
   "outputs": [],
   "source": [
    "# Date formatting (using Excel's formatting strings)\n",
    "sheet['A5'].value = dt.date(2016, 10, 13)\n",
    "sheet['A5'].number_format = 'mm/dd/yy'"
   ]
  },
  {
   "cell_type": "code",
   "execution_count": 14,
   "id": "ed7645d1-af7b-4805-bf25-2ee59c0012bf",
   "metadata": {},
   "outputs": [],
   "source": [
    "# Image\n",
    "sheet.add_image(Image('images/python.png'), 'C1')"
   ]
  },
  {
   "cell_type": "code",
   "execution_count": 15,
   "id": "ce6317fc-6bb0-46e1-b8d5-4c99a41e3bd6",
   "metadata": {},
   "outputs": [],
   "source": [
    "# Two-dimensional list (using excel module)\n",
    "data = [[None, 'North', 'South'],\n",
    "        ['Last Year', 2, 5],\n",
    "        ['This Year', 3, 6]]\n",
    "\n",
    "excel.write(sheet, data, 'A10')"
   ]
  },
  {
   "cell_type": "code",
   "execution_count": 16,
   "id": "0df4e1de-11c1-4ae8-8ea5-36ecfca30515",
   "metadata": {},
   "outputs": [],
   "source": [
    "# Chart\n",
    "chart = BarChart()\n",
    "chart.type = 'col'\n",
    "chart.title = 'Sales Per Region'\n",
    "chart.x_axis.title = 'Regions'\n",
    "chart.y_axis.title = 'Sales'\n",
    "chart_data = Reference(sheet, min_row=11, min_col=1, max_row=12, max_col=3)\n",
    "chart_categories = Reference(sheet, min_row=10, min_col=2, max_row=10, max_col=3)\n",
    "\n",
    "# from_rows interprets the data in the same way as if you would add a chart manually in Excel\n",
    "chart.add_data(chart_data, titles_from_data=True, from_rows=True)\n",
    "chart.set_categories(chart_categories)\n",
    "sheet.add_chart(chart, 'A15')"
   ]
  },
  {
   "cell_type": "code",
   "execution_count": 17,
   "id": "1522cb46-3f23-4df9-98fa-7e9b70b7f70b",
   "metadata": {},
   "outputs": [],
   "source": [
    "# Saving the workbook creates the file on disk\n",
    "book.save('openpyxl.xlsx')"
   ]
  },
  {
   "cell_type": "markdown",
   "id": "3f067135-5834-4251-9fea-acd72219ae72",
   "metadata": {},
   "source": [
    "## Edit an Excel template file"
   ]
  },
  {
   "cell_type": "code",
   "execution_count": 18,
   "id": "5f69989d-f4d0-4471-84b9-6c796dc59933",
   "metadata": {},
   "outputs": [],
   "source": [
    "book = openpyxl.Workbook()\n",
    "sheet = book.active\n",
    "sheet['A1'].value = 'This is a template'\n",
    "book.template = True\n",
    "book.save('template.xltx')"
   ]
  },
  {
   "cell_type": "code",
   "execution_count": null,
   "id": "48b7e286-bcc5-4458-a082-b8d94ffa9622",
   "metadata": {},
   "outputs": [],
   "source": []
  }
 ],
 "metadata": {
  "kernelspec": {
   "display_name": "Python 3 (ipykernel)",
   "language": "python",
   "name": "python3"
  },
  "language_info": {
   "codemirror_mode": {
    "name": "ipython",
    "version": 3
   },
   "file_extension": ".py",
   "mimetype": "text/x-python",
   "name": "python",
   "nbconvert_exporter": "python",
   "pygments_lexer": "ipython3",
   "version": "3.9.12"
  }
 },
 "nbformat": 4,
 "nbformat_minor": 5
}
