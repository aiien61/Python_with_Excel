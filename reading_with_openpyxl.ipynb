{
 "cells": [
  {
   "cell_type": "code",
   "execution_count": 2,
   "id": "ba1e9334-66e9-4acc-96bc-d40fd71b7a5a",
   "metadata": {},
   "outputs": [
    {
     "name": "stderr",
     "output_type": "stream",
     "text": [
      "/opt/conda/lib/python3.9/site-packages/pandas/core/computation/expressions.py:21: UserWarning: Pandas requires version '2.8.4' or newer of 'numexpr' (version '2.8.0' currently installed).\n",
      "  from pandas.core.computation.check import NUMEXPR_INSTALLED\n",
      "/opt/conda/lib/python3.9/site-packages/pandas/core/arrays/masked.py:60: UserWarning: Pandas requires version '1.3.6' or newer of 'bottleneck' (version '1.3.4' currently installed).\n",
      "  from pandas.core import (\n"
     ]
    }
   ],
   "source": [
    "import excel\n",
    "import openpyxl\n",
    "import pandas as pd\n",
    "import datetime as dt"
   ]
  },
  {
   "cell_type": "code",
   "execution_count": 3,
   "id": "d8047a55-29f1-4162-820f-532097a31a51",
   "metadata": {},
   "outputs": [],
   "source": [
    "# Open the workbook to read cell values\n",
    "# The file is automatically closed again after loading the data.\n",
    "book = openpyxl.load_workbook('excel_files/stores.xlsx', data_only=True)"
   ]
  },
  {
   "cell_type": "code",
   "execution_count": 4,
   "id": "d3bad2b5-f643-4cf5-9bba-861e55a3ef74",
   "metadata": {},
   "outputs": [
    {
     "data": {
      "text/plain": [
       "<Worksheet \"2019\">"
      ]
     },
     "execution_count": 4,
     "metadata": {},
     "output_type": "execute_result"
    }
   ],
   "source": [
    "# Get a worksheet object by name or index (0-based)\n",
    "sheet = book['2019']  # by name\n",
    "sheet"
   ]
  },
  {
   "cell_type": "code",
   "execution_count": 5,
   "id": "7610ef62-b54c-4ce1-91ed-8cd547cdf746",
   "metadata": {},
   "outputs": [
    {
     "data": {
      "text/plain": [
       "<Worksheet \"2019\">"
      ]
     },
     "execution_count": 5,
     "metadata": {},
     "output_type": "execute_result"
    }
   ],
   "source": [
    "sheet = book.worksheets[0] # by index\n",
    "sheet"
   ]
  },
  {
   "cell_type": "code",
   "execution_count": 6,
   "id": "a4e6a01e-59da-4a7d-ba12-84c4d3f854c7",
   "metadata": {},
   "outputs": [
    {
     "data": {
      "text/plain": [
       "['2019', '2020', '2019-2020']"
      ]
     },
     "execution_count": 6,
     "metadata": {},
     "output_type": "execute_result"
    }
   ],
   "source": [
    "# Get a list with all sheet names\n",
    "book.sheetnames"
   ]
  },
  {
   "cell_type": "code",
   "execution_count": 7,
   "id": "d9dc8dab-dc92-4a58-b665-e52868ab1fe5",
   "metadata": {},
   "outputs": [
    {
     "name": "stdout",
     "output_type": "stream",
     "text": [
      "2019\n",
      "2020\n",
      "2019-2020\n"
     ]
    }
   ],
   "source": [
    "# Loop through the sheet objects\n",
    "# Instead of 'name', openpyxl uses 'title'.\n",
    "for i in book.worksheets:\n",
    "    print(i.title)"
   ]
  },
  {
   "cell_type": "code",
   "execution_count": 8,
   "id": "ee978981-5f5b-4a6e-abde-1fd585b23784",
   "metadata": {},
   "outputs": [
    {
     "data": {
      "text/plain": [
       "(8, 6)"
      ]
     },
     "execution_count": 8,
     "metadata": {},
     "output_type": "execute_result"
    }
   ],
   "source": [
    "# Getting the dimensions,\n",
    "# i.e., the used range of the sheet\n",
    "sheet.max_row, sheet.max_column"
   ]
  },
  {
   "cell_type": "code",
   "execution_count": 9,
   "id": "78f260e3-c704-44b7-8982-cf003ef668af",
   "metadata": {},
   "outputs": [
    {
     "data": {
      "text/plain": [
       "'Boston'"
      ]
     },
     "execution_count": 9,
     "metadata": {},
     "output_type": "execute_result"
    }
   ],
   "source": [
    "# Read the value of a single cell\n",
    "# using 'A1' notation\n",
    "sheet['B6'].value"
   ]
  },
  {
   "cell_type": "code",
   "execution_count": 10,
   "id": "deef479a-ff24-4363-aea7-e1b8455fc632",
   "metadata": {},
   "outputs": [
    {
     "data": {
      "text/plain": [
       "'Boston'"
      ]
     },
     "execution_count": 10,
     "metadata": {},
     "output_type": "execute_result"
    }
   ],
   "source": [
    "# or using cell indices (1-based)\n",
    "sheet.cell(row=6, column=2).value  # column 2 = column B"
   ]
  },
  {
   "cell_type": "markdown",
   "id": "8b0e610a-a4a7-465d-b49d-53083c89ab28",
   "metadata": {},
   "source": [
    "## Read in a range of cell values by using the excel module"
   ]
  },
  {
   "cell_type": "code",
   "execution_count": 12,
   "id": "a905d064-cb83-45a7-ac71-5de6f278d5a9",
   "metadata": {},
   "outputs": [],
   "source": [
    "# syntax of excel module\n",
    "# use column name to specify the range of all cells\n",
    "# values = excel.read(sheet_object, first_cell='A1', last_cell=None)\n",
    "\n",
    "# use cell indices to specify the range of all cells\n",
    "# values = excel.read(sheet_object, first_cell=(1, 1), last_cell=(m, n))"
   ]
  },
  {
   "cell_type": "code",
   "execution_count": 11,
   "id": "d7c73145-bfc8-4e3b-b91d-55a23a38aca7",
   "metadata": {},
   "outputs": [
    {
     "data": {
      "text/plain": [
       "[['Store', 'Employees', 'Manager', 'Since', 'Flagship'],\n",
       " ['New York', 10, 'Sarah', datetime.datetime(2018, 7, 20, 0, 0), False]]"
      ]
     },
     "execution_count": 11,
     "metadata": {},
     "output_type": "execute_result"
    }
   ],
   "source": [
    "data = excel.read(book['2019'], (2, 2), (8, 6))\n",
    "data[:2] # print the first two rows"
   ]
  },
  {
   "cell_type": "code",
   "execution_count": null,
   "id": "ba32aff4-27dd-4195-b657-b149f1a487e0",
   "metadata": {},
   "outputs": [],
   "source": []
  }
 ],
 "metadata": {
  "kernelspec": {
   "display_name": "Python 3 (ipykernel)",
   "language": "python",
   "name": "python3"
  },
  "language_info": {
   "codemirror_mode": {
    "name": "ipython",
    "version": 3
   },
   "file_extension": ".py",
   "mimetype": "text/x-python",
   "name": "python",
   "nbconvert_exporter": "python",
   "pygments_lexer": "ipython3",
   "version": "3.9.12"
  }
 },
 "nbformat": 4,
 "nbformat_minor": 5
}
