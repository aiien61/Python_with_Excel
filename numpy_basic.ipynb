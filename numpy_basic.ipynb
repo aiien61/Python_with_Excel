{
 "cells": [
  {
   "cell_type": "code",
   "execution_count": 15,
   "id": "d1f491a9-40c6-46f0-b84f-407deabde90e",
   "metadata": {},
   "outputs": [],
   "source": [
    "import math\n",
    "import numpy as np\n",
    "from typing import List"
   ]
  },
  {
   "cell_type": "markdown",
   "id": "af2ca732-4cc5-478d-95d2-32738953e65e",
   "metadata": {},
   "source": [
    "### Construct a matrix using nested array without numpy"
   ]
  },
  {
   "cell_type": "code",
   "execution_count": 2,
   "id": "365e1441-f9d5-4265-a125-8db4640a6ccf",
   "metadata": {},
   "outputs": [],
   "source": [
    "matrix: List[int] = [[1, 2, 3],\n",
    "                     [4, 5, 6],\n",
    "                     [7, 8, 9]]"
   ]
  },
  {
   "cell_type": "code",
   "execution_count": 3,
   "id": "f61b17d5-7b8b-4b18-9a87-90e383e16ce7",
   "metadata": {},
   "outputs": [
    {
     "data": {
      "text/plain": [
       "[[1, 2, 3], [4, 5, 6], [7, 8, 9]]"
      ]
     },
     "execution_count": 3,
     "metadata": {},
     "output_type": "execute_result"
    }
   ],
   "source": [
    "matrix"
   ]
  },
  {
   "cell_type": "markdown",
   "id": "f9c6e819-4b22-4796-a545-8d2692bc24d3",
   "metadata": {},
   "source": [
    "### Every element being added 1 when using pure nested array"
   ]
  },
  {
   "cell_type": "code",
   "execution_count": 5,
   "id": "97b16fb0-b1a3-45cb-8af2-a25eb1385348",
   "metadata": {},
   "outputs": [
    {
     "data": {
      "text/plain": [
       "[[2, 3, 4], [5, 6, 7], [8, 9, 10]]"
      ]
     },
     "execution_count": 5,
     "metadata": {},
     "output_type": "execute_result"
    }
   ],
   "source": [
    "[[i + 1 for i in row] for row in matrix]"
   ]
  },
  {
   "cell_type": "markdown",
   "id": "fe7a8d95-3a84-450b-9e3e-feb8c18be400",
   "metadata": {},
   "source": [
    "# Constructing an array using NumPy"
   ]
  },
  {
   "cell_type": "code",
   "execution_count": 6,
   "id": "001170e0-3740-464f-9acc-15beaa3de883",
   "metadata": {},
   "outputs": [],
   "source": [
    "array1 = np.array([10, 100, 1_000])\n",
    "array2 = np.array([[1, 2, 3],\n",
    "                   [4, 5, 6]])"
   ]
  },
  {
   "cell_type": "code",
   "execution_count": 7,
   "id": "a5862856-6e71-4e33-9fa1-73a781ad8403",
   "metadata": {},
   "outputs": [
    {
     "data": {
      "text/plain": [
       "array([  10,  100, 1000])"
      ]
     },
     "execution_count": 7,
     "metadata": {},
     "output_type": "execute_result"
    }
   ],
   "source": [
    "array1"
   ]
  },
  {
   "cell_type": "code",
   "execution_count": 8,
   "id": "6c69d27f-40f2-47d2-b94e-8e689815fb5f",
   "metadata": {},
   "outputs": [
    {
     "data": {
      "text/plain": [
       "array([[1, 2, 3],\n",
       "       [4, 5, 6]])"
      ]
     },
     "execution_count": 8,
     "metadata": {},
     "output_type": "execute_result"
    }
   ],
   "source": [
    "array2"
   ]
  },
  {
   "cell_type": "code",
   "execution_count": 9,
   "id": "f2168708-c848-4c2f-b9e6-3515e5a9cb9e",
   "metadata": {},
   "outputs": [
    {
     "data": {
      "text/plain": [
       "dtype('int64')"
      ]
     },
     "execution_count": 9,
     "metadata": {},
     "output_type": "execute_result"
    }
   ],
   "source": [
    "array1.dtype"
   ]
  },
  {
   "cell_type": "markdown",
   "id": "a4af62e9-b38e-4dc2-b172-da1c23371274",
   "metadata": {},
   "source": [
    "## Vectorisation & Broadcasting"
   ]
  },
  {
   "cell_type": "markdown",
   "id": "4c4a9d22-2bcc-4377-af49-bf17a0641e14",
   "metadata": {},
   "source": [
    "### Broadcasting"
   ]
  },
  {
   "cell_type": "code",
   "execution_count": 11,
   "id": "2d6843c8-cf9b-4a6c-adb9-bb9838841d5f",
   "metadata": {},
   "outputs": [
    {
     "data": {
      "text/plain": [
       "array([[2, 3, 4],\n",
       "       [5, 6, 7]])"
      ]
     },
     "execution_count": 11,
     "metadata": {},
     "output_type": "execute_result"
    }
   ],
   "source": [
    "array2 + 1"
   ]
  },
  {
   "cell_type": "code",
   "execution_count": 12,
   "id": "8af2d55e-4ae7-4835-b7db-273cfbbf73c8",
   "metadata": {},
   "outputs": [
    {
     "data": {
      "text/plain": [
       "array([[ 1,  4,  9],\n",
       "       [16, 25, 36]])"
      ]
     },
     "execution_count": 12,
     "metadata": {},
     "output_type": "execute_result"
    }
   ],
   "source": [
    "array2 * array2"
   ]
  },
  {
   "cell_type": "code",
   "execution_count": 13,
   "id": "958aae6f-166d-4f8d-99e1-18b66c98d337",
   "metadata": {},
   "outputs": [
    {
     "data": {
      "text/plain": [
       "array([[  10,  200, 3000],\n",
       "       [  40,  500, 6000]])"
      ]
     },
     "execution_count": 13,
     "metadata": {},
     "output_type": "execute_result"
    }
   ],
   "source": [
    "array2 * array1"
   ]
  },
  {
   "cell_type": "markdown",
   "id": "6907959a-8ce1-4042-8a71-09411106cb5a",
   "metadata": {},
   "source": [
    "### Matrix multiplication or inner product"
   ]
  },
  {
   "cell_type": "code",
   "execution_count": 14,
   "id": "e087b711-0d66-4b82-9e49-62cf555bce67",
   "metadata": {},
   "outputs": [
    {
     "data": {
      "text/plain": [
       "array([[14, 32],\n",
       "       [32, 77]])"
      ]
     },
     "execution_count": 14,
     "metadata": {},
     "output_type": "execute_result"
    }
   ],
   "source": [
    "array2 @ array2.T"
   ]
  },
  {
   "cell_type": "markdown",
   "id": "bb2dc7bd-2b35-4b4a-ad2a-88c01e072f42",
   "metadata": {},
   "source": [
    "## Using NumPy ufunc"
   ]
  },
  {
   "cell_type": "code",
   "execution_count": 16,
   "id": "989f495c-0478-4f0e-8027-732acdb197f0",
   "metadata": {},
   "outputs": [
    {
     "name": "stdout",
     "output_type": "stream",
     "text": [
      "only length-1 arrays can be converted to Python scalars\n"
     ]
    }
   ],
   "source": [
    "try:\n",
    "    math.sqrt(array2)\n",
    "except TypeError as e:\n",
    "    print(e)"
   ]
  },
  {
   "cell_type": "code",
   "execution_count": 17,
   "id": "aac6ddab-e320-41e2-b009-fc6b3acc5079",
   "metadata": {},
   "outputs": [
    {
     "data": {
      "text/plain": [
       "array([[1.        , 1.41421356, 1.73205081],\n",
       "       [2.        , 2.23606798, 2.44948974]])"
      ]
     },
     "execution_count": 17,
     "metadata": {},
     "output_type": "execute_result"
    }
   ],
   "source": [
    "np.array([[math.sqrt(i) for i in row] for row in array2])"
   ]
  },
  {
   "cell_type": "code",
   "execution_count": 18,
   "id": "ea8e087f-cb7c-41ab-baaf-5324b9ff643a",
   "metadata": {},
   "outputs": [
    {
     "data": {
      "text/plain": [
       "array([[1.        , 1.41421356, 1.73205081],\n",
       "       [2.        , 2.23606798, 2.44948974]])"
      ]
     },
     "execution_count": 18,
     "metadata": {},
     "output_type": "execute_result"
    }
   ],
   "source": [
    "# By NumPy ufunc\n",
    "np.sqrt(array2)"
   ]
  },
  {
   "cell_type": "code",
   "execution_count": 22,
   "id": "ba2d723f-a938-4ba7-bce0-6311320f2081",
   "metadata": {},
   "outputs": [
    {
     "data": {
      "text/plain": [
       "array([5, 7, 9])"
      ]
     },
     "execution_count": 22,
     "metadata": {},
     "output_type": "execute_result"
    }
   ],
   "source": [
    "array2.sum(axis=0)  # sum up all the elements with same columns but different rows"
   ]
  },
  {
   "cell_type": "code",
   "execution_count": 23,
   "id": "62b9ece1-ca56-4dd1-bac8-c25fd5507495",
   "metadata": {},
   "outputs": [
    {
     "data": {
      "text/plain": [
       "array([ 6, 15])"
      ]
     },
     "execution_count": 23,
     "metadata": {},
     "output_type": "execute_result"
    }
   ],
   "source": [
    "array2.sum(axis=1)  # sum up all the elements with same rows but different columns"
   ]
  },
  {
   "cell_type": "code",
   "execution_count": 25,
   "id": "d4404ae4-7f70-44ce-b75c-aa2902fa51f6",
   "metadata": {},
   "outputs": [
    {
     "data": {
      "text/plain": [
       "21"
      ]
     },
     "execution_count": 25,
     "metadata": {},
     "output_type": "execute_result"
    }
   ],
   "source": [
    "array2.sum()  # sum every element up to return a number"
   ]
  },
  {
   "cell_type": "markdown",
   "id": "4f9d3a7e-266c-4283-a62f-758a55d6481f",
   "metadata": {},
   "source": [
    "## Accessing elements"
   ]
  },
  {
   "cell_type": "code",
   "execution_count": 29,
   "id": "01a33de9-2a60-454c-93c7-a8a54d6b2a56",
   "metadata": {},
   "outputs": [
    {
     "data": {
      "text/plain": [
       "3"
      ]
     },
     "execution_count": 29,
     "metadata": {},
     "output_type": "execute_result"
    }
   ],
   "source": [
    "# Chained Indexing when pure nested array\n",
    "matrix[0][2]"
   ]
  },
  {
   "cell_type": "markdown",
   "id": "86539c94-f32a-4381-b493-a46c53cad945",
   "metadata": {},
   "source": [
    "### numpy_array[selection] when using NumPy"
   ]
  },
  {
   "cell_type": "code",
   "execution_count": 35,
   "id": "9d937283-6482-4893-a58b-f3b0e69ed661",
   "metadata": {},
   "outputs": [
    {
     "data": {
      "text/plain": [
       "array([  10,  100, 1000])"
      ]
     },
     "execution_count": 35,
     "metadata": {},
     "output_type": "execute_result"
    }
   ],
   "source": [
    "array1"
   ]
  },
  {
   "cell_type": "code",
   "execution_count": 36,
   "id": "f7c18c54-19fa-4a73-91c8-31ee5cd56e90",
   "metadata": {},
   "outputs": [
    {
     "data": {
      "text/plain": [
       "array([[1, 2, 3],\n",
       "       [4, 5, 6]])"
      ]
     },
     "execution_count": 36,
     "metadata": {},
     "output_type": "execute_result"
    }
   ],
   "source": [
    "array2"
   ]
  },
  {
   "cell_type": "code",
   "execution_count": 37,
   "id": "e200bee7-cbde-47d6-9acb-55d5aad0c1ee",
   "metadata": {},
   "outputs": [
    {
     "data": {
      "text/plain": [
       "1000"
      ]
     },
     "execution_count": 37,
     "metadata": {},
     "output_type": "execute_result"
    }
   ],
   "source": [
    "array1[2]"
   ]
  },
  {
   "cell_type": "code",
   "execution_count": 38,
   "id": "a3d334e0-96db-45d1-850c-2029573d22eb",
   "metadata": {},
   "outputs": [
    {
     "data": {
      "text/plain": [
       "1"
      ]
     },
     "execution_count": 38,
     "metadata": {},
     "output_type": "execute_result"
    }
   ],
   "source": [
    "array2[0, 0]"
   ]
  },
  {
   "cell_type": "code",
   "execution_count": 39,
   "id": "74ceaaa1-1b04-4b00-862d-860ba8827a4d",
   "metadata": {},
   "outputs": [
    {
     "data": {
      "text/plain": [
       "array([[2, 3],\n",
       "       [5, 6]])"
      ]
     },
     "execution_count": 39,
     "metadata": {},
     "output_type": "execute_result"
    }
   ],
   "source": [
    "array2[:, 1:]"
   ]
  },
  {
   "cell_type": "code",
   "execution_count": 40,
   "id": "e187bca9-e96e-49f0-afec-ecd9ceb4dafd",
   "metadata": {},
   "outputs": [
    {
     "data": {
      "text/plain": [
       "array([2, 5])"
      ]
     },
     "execution_count": 40,
     "metadata": {},
     "output_type": "execute_result"
    }
   ],
   "source": [
    "array2[:, 1]"
   ]
  },
  {
   "cell_type": "code",
   "execution_count": 41,
   "id": "d3c1c7f9-bc10-4ca5-a7e0-2fdea6b3337d",
   "metadata": {},
   "outputs": [
    {
     "data": {
      "text/plain": [
       "array([4, 5])"
      ]
     },
     "execution_count": 41,
     "metadata": {},
     "output_type": "execute_result"
    }
   ],
   "source": [
    "array2[1, :2]"
   ]
  },
  {
   "cell_type": "markdown",
   "id": "6267919d-b4c0-4a77-abd9-25c431827ad9",
   "metadata": {},
   "source": [
    "## Initiate NumPy instance"
   ]
  },
  {
   "cell_type": "code",
   "execution_count": 42,
   "id": "e71c4573-9d86-4551-b380-ec4475ca00e1",
   "metadata": {},
   "outputs": [
    {
     "data": {
      "text/plain": [
       "array([[0, 1, 2, 3, 4],\n",
       "       [5, 6, 7, 8, 9]])"
      ]
     },
     "execution_count": 42,
     "metadata": {},
     "output_type": "execute_result"
    }
   ],
   "source": [
    "# 10 items, 2 rows, 5 columns\n",
    "np.arange(2 * 5).reshape(2, 5)"
   ]
  },
  {
   "cell_type": "code",
   "execution_count": 43,
   "id": "4e542734-16e3-4a6e-ae76-7922406fbd74",
   "metadata": {},
   "outputs": [
    {
     "data": {
      "text/plain": [
       "array([[ 0.75855423, -0.32264011, -0.59893788],\n",
       "       [-0.86205506,  0.86234372, -1.78431642]])"
      ]
     },
     "execution_count": 43,
     "metadata": {},
     "output_type": "execute_result"
    }
   ],
   "source": [
    "# randomly generate 6 floating numbers, 2 rows, 3 columns\n",
    "np.random.randn(2, 3)"
   ]
  },
  {
   "cell_type": "markdown",
   "id": "cb5cd5aa-b7be-47f4-b338-0898629c10a9",
   "metadata": {},
   "source": [
    "## Views & Copy"
   ]
  },
  {
   "cell_type": "code",
   "execution_count": 45,
   "id": "d856dcc1-868d-4dad-be9e-b2779748c689",
   "metadata": {},
   "outputs": [
    {
     "data": {
      "text/plain": [
       "array([[1, 2, 3],\n",
       "       [4, 5, 6]])"
      ]
     },
     "execution_count": 45,
     "metadata": {},
     "output_type": "execute_result"
    }
   ],
   "source": [
    "# Get views by slicing\n",
    "array2"
   ]
  },
  {
   "cell_type": "code",
   "execution_count": 46,
   "id": "51e790c4-efb0-4c29-ad49-6b0428a58191",
   "metadata": {},
   "outputs": [
    {
     "data": {
      "text/plain": [
       "array([[1, 2],\n",
       "       [4, 5]])"
      ]
     },
     "execution_count": 46,
     "metadata": {},
     "output_type": "execute_result"
    }
   ],
   "source": [
    "subset = array2[:, :2]\n",
    "subset"
   ]
  },
  {
   "cell_type": "code",
   "execution_count": 47,
   "id": "12064119-36c6-48fa-81d5-ed3ce0cbd762",
   "metadata": {},
   "outputs": [
    {
     "data": {
      "text/plain": [
       "array([[1000,    2],\n",
       "       [   4,    5]])"
      ]
     },
     "execution_count": 47,
     "metadata": {},
     "output_type": "execute_result"
    }
   ],
   "source": [
    "subset[0, 0] = 1_000\n",
    "subset"
   ]
  },
  {
   "cell_type": "code",
   "execution_count": 48,
   "id": "c2ff5deb-6ce3-4473-9cdc-c15fe31b4e91",
   "metadata": {},
   "outputs": [
    {
     "data": {
      "text/plain": [
       "array([[1000,    2,    3],\n",
       "       [   4,    5,    6]])"
      ]
     },
     "execution_count": 48,
     "metadata": {},
     "output_type": "execute_result"
    }
   ],
   "source": [
    "array2"
   ]
  },
  {
   "cell_type": "code",
   "execution_count": 49,
   "id": "6762ed46-0fa7-460b-9db5-1c5320a100fe",
   "metadata": {},
   "outputs": [
    {
     "data": {
      "text/plain": [
       "array([[1000,    2,    3],\n",
       "       [   4,    5,    6]])"
      ]
     },
     "execution_count": 49,
     "metadata": {},
     "output_type": "execute_result"
    }
   ],
   "source": [
    "# Get copy\n",
    "array2"
   ]
  },
  {
   "cell_type": "code",
   "execution_count": 50,
   "id": "d167759e-f21b-4ff0-8c65-d6398604bcb2",
   "metadata": {},
   "outputs": [
    {
     "data": {
      "text/plain": [
       "array([[1000,    2],\n",
       "       [   4,    5]])"
      ]
     },
     "execution_count": 50,
     "metadata": {},
     "output_type": "execute_result"
    }
   ],
   "source": [
    "subset = array2[:, :2].copy()\n",
    "subset"
   ]
  },
  {
   "cell_type": "code",
   "execution_count": 51,
   "id": "6926e060-2214-4092-bb26-867c2de403eb",
   "metadata": {},
   "outputs": [
    {
     "data": {
      "text/plain": [
       "array([[1, 2],\n",
       "       [4, 5]])"
      ]
     },
     "execution_count": 51,
     "metadata": {},
     "output_type": "execute_result"
    }
   ],
   "source": [
    "subset[0, 0] = 1\n",
    "subset"
   ]
  },
  {
   "cell_type": "code",
   "execution_count": 52,
   "id": "8cba12f9-2f66-409d-82bd-45f28388a63d",
   "metadata": {},
   "outputs": [
    {
     "data": {
      "text/plain": [
       "array([[1000,    2,    3],\n",
       "       [   4,    5,    6]])"
      ]
     },
     "execution_count": 52,
     "metadata": {},
     "output_type": "execute_result"
    }
   ],
   "source": [
    "array2"
   ]
  },
  {
   "cell_type": "code",
   "execution_count": null,
   "id": "236e657d-3197-4eac-b537-e4078de345e1",
   "metadata": {},
   "outputs": [],
   "source": []
  }
 ],
 "metadata": {
  "kernelspec": {
   "display_name": "Python 3 (ipykernel)",
   "language": "python",
   "name": "python3"
  },
  "language_info": {
   "codemirror_mode": {
    "name": "ipython",
    "version": 3
   },
   "file_extension": ".py",
   "mimetype": "text/x-python",
   "name": "python",
   "nbconvert_exporter": "python",
   "pygments_lexer": "ipython3",
   "version": "3.9.12"
  }
 },
 "nbformat": 4,
 "nbformat_minor": 5
}
