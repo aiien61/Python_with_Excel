{
 "cells": [
  {
   "cell_type": "code",
   "execution_count": 37,
   "id": "ed11e29c-4029-4024-ba68-dd7ae5abe18d",
   "metadata": {},
   "outputs": [],
   "source": [
    "import pyxlsb\n",
    "import excel"
   ]
  },
  {
   "cell_type": "code",
   "execution_count": 34,
   "id": "8c425e7e-c2b0-4620-97eb-3ddd49264d43",
   "metadata": {},
   "outputs": [
    {
     "name": "stdout",
     "output_type": "stream",
     "text": [
      "Sheet \"2019\" has \"7\" rows and 5 cols\n",
      "Sheet \"2020\" has \"7\" rows and 5 cols\n",
      "Sheet \"2019-2020\" has \"20\" rows and 5 cols\n"
     ]
    }
   ],
   "source": [
    "# Loop through sheets. With pyxlsb, the workbook and sheet objects can be used as context managers.\n",
    "# book.sheets returns a list of sheet names, not objects\n",
    "# To get a sheet object, use get_sheet() instead\n",
    "with pyxlsb.open_workbook('excel_files/stores.xlsb') as book:\n",
    "    for sheet_name in book.sheets:\n",
    "        with book.get_sheet(sheet_name) as sheet:\n",
    "            dim = sheet.dimension\n",
    "            print(f'Sheet \"{sheet_name}\" has \"{dim.h}\" rows and {dim.w} cols')"
   ]
  },
  {
   "cell_type": "code",
   "execution_count": 39,
   "id": "b7d0c1a0-4c8a-4d5d-b523-fe9cc4ebc8cd",
   "metadata": {},
   "outputs": [
    {
     "ename": "TypeError",
     "evalue": "Couldn't handle sheet of type <class 'pyxlsb.worksheet.Worksheet'>",
     "output_type": "error",
     "traceback": [
      "\u001b[0;31m---------------------------------------------------------------------------\u001b[0m",
      "\u001b[0;31mTypeError\u001b[0m                                 Traceback (most recent call last)",
      "Input \u001b[0;32mIn [39]\u001b[0m, in \u001b[0;36m<cell line: 3>\u001b[0;34m()\u001b[0m\n\u001b[1;32m      3\u001b[0m \u001b[38;5;28;01mwith\u001b[39;00m pyxlsb\u001b[38;5;241m.\u001b[39mopen_workbook(\u001b[38;5;124m'\u001b[39m\u001b[38;5;124mexcel_files/stores.xlsb\u001b[39m\u001b[38;5;124m'\u001b[39m) \u001b[38;5;28;01mas\u001b[39;00m book:\n\u001b[1;32m      4\u001b[0m     \u001b[38;5;28;01mwith\u001b[39;00m book\u001b[38;5;241m.\u001b[39mget_sheet(\u001b[38;5;241m1\u001b[39m) \u001b[38;5;28;01mas\u001b[39;00m sheet:\n\u001b[1;32m      5\u001b[0m         \u001b[38;5;66;03m# data = []\u001b[39;00m\n\u001b[1;32m      6\u001b[0m         \u001b[38;5;66;03m# for row in sheet.rows():\u001b[39;00m\n\u001b[1;32m      7\u001b[0m         \u001b[38;5;66;03m#     row_data = [item.v for item in row]\u001b[39;00m\n\u001b[1;32m      8\u001b[0m         \u001b[38;5;66;03m#     data.append(row_data)\u001b[39;00m\n\u001b[0;32m----> 9\u001b[0m         data \u001b[38;5;241m=\u001b[39m \u001b[43mexcel\u001b[49m\u001b[38;5;241;43m.\u001b[39;49m\u001b[43mread\u001b[49m\u001b[43m(\u001b[49m\u001b[43msheet\u001b[49m\u001b[43m,\u001b[49m\u001b[43m \u001b[49m\u001b[38;5;124;43m'\u001b[39;49m\u001b[38;5;124;43mB2\u001b[39;49m\u001b[38;5;124;43m'\u001b[39;49m\u001b[43m)\u001b[49m\n\u001b[1;32m     11\u001b[0m \u001b[38;5;66;03m# print the first two rows\u001b[39;00m\n\u001b[1;32m     12\u001b[0m data[:\u001b[38;5;241m2\u001b[39m]\n",
      "File \u001b[0;32m~/work/my_projects/in_progress/Python_in_Excel/Pandas_in_Excel/excel.py:126\u001b[0m, in \u001b[0;36mread\u001b[0;34m(sheet, first_cell, last_cell)\u001b[0m\n\u001b[1;32m    124\u001b[0m     \u001b[38;5;28;01mreturn\u001b[39;00m data\n\u001b[1;32m    125\u001b[0m \u001b[38;5;28;01melse\u001b[39;00m:\n\u001b[0;32m--> 126\u001b[0m     \u001b[38;5;28;01mraise\u001b[39;00m \u001b[38;5;167;01mTypeError\u001b[39;00m(\u001b[38;5;124mf\u001b[39m\u001b[38;5;124m\"\u001b[39m\u001b[38;5;124mCouldn\u001b[39m\u001b[38;5;124m'\u001b[39m\u001b[38;5;124mt handle sheet of type \u001b[39m\u001b[38;5;132;01m{\u001b[39;00m\u001b[38;5;28mtype\u001b[39m(sheet)\u001b[38;5;132;01m}\u001b[39;00m\u001b[38;5;124m\"\u001b[39m)\n",
      "\u001b[0;31mTypeError\u001b[0m: Couldn't handle sheet of type <class 'pyxlsb.worksheet.Worksheet'>"
     ]
    }
   ],
   "source": [
    "# Read in the values of a range of cells by using the excel module.\n",
    "# Instead of '2019', use its index (1-based).\n",
    "with pyxlsb.open_workbook('excel_files/stores.xlsb') as book:\n",
    "    with book.get_sheet(1) as sheet:\n",
    "        # data = []\n",
    "        # for row in sheet.rows():\n",
    "        #     row_data = [item.v for item in row]\n",
    "        #     data.append(row_data)\n",
    "        data = excel.read(sheet, 'B2')\n",
    "        \n",
    "# print the first two rows\n",
    "data[:2]"
   ]
  },
  {
   "cell_type": "code",
   "execution_count": null,
   "id": "8d991cf2-efcd-42ff-9504-d813519460d9",
   "metadata": {},
   "outputs": [],
   "source": [
    "# convert datetime object by pyxlsb\n",
    "from pyxlsb import convert_date\n",
    "convert_date(data[1][3])"
   ]
  },
  {
   "cell_type": "code",
   "execution_count": 42,
   "id": "849afa86-7eca-470b-9c54-8d9559d3b2e1",
   "metadata": {},
   "outputs": [
    {
     "data": {
      "text/html": [
       "<div>\n",
       "<style scoped>\n",
       "    .dataframe tbody tr th:only-of-type {\n",
       "        vertical-align: middle;\n",
       "    }\n",
       "\n",
       "    .dataframe tbody tr th {\n",
       "        vertical-align: top;\n",
       "    }\n",
       "\n",
       "    .dataframe thead th {\n",
       "        text-align: right;\n",
       "    }\n",
       "</style>\n",
       "<table border=\"1\" class=\"dataframe\">\n",
       "  <thead>\n",
       "    <tr style=\"text-align: right;\">\n",
       "      <th></th>\n",
       "      <th>Unnamed: 0</th>\n",
       "      <th>Store</th>\n",
       "      <th>Employees</th>\n",
       "      <th>Manager</th>\n",
       "      <th>Since</th>\n",
       "      <th>Flagship</th>\n",
       "    </tr>\n",
       "  </thead>\n",
       "  <tbody>\n",
       "    <tr>\n",
       "      <th>0</th>\n",
       "      <td>NaN</td>\n",
       "      <td>New York</td>\n",
       "      <td>10</td>\n",
       "      <td>Sarah</td>\n",
       "      <td>43301.0</td>\n",
       "      <td>False</td>\n",
       "    </tr>\n",
       "    <tr>\n",
       "      <th>1</th>\n",
       "      <td>NaN</td>\n",
       "      <td>San Francisco</td>\n",
       "      <td>12</td>\n",
       "      <td>Neriah</td>\n",
       "      <td>43771.0</td>\n",
       "      <td>MISSING</td>\n",
       "    </tr>\n",
       "    <tr>\n",
       "      <th>2</th>\n",
       "      <td>NaN</td>\n",
       "      <td>Chicago</td>\n",
       "      <td>4</td>\n",
       "      <td>Katelin</td>\n",
       "      <td>43861.0</td>\n",
       "      <td>NaN</td>\n",
       "    </tr>\n",
       "    <tr>\n",
       "      <th>3</th>\n",
       "      <td>NaN</td>\n",
       "      <td>Boston</td>\n",
       "      <td>5</td>\n",
       "      <td>Georgiana</td>\n",
       "      <td>42826.0</td>\n",
       "      <td>True</td>\n",
       "    </tr>\n",
       "    <tr>\n",
       "      <th>4</th>\n",
       "      <td>NaN</td>\n",
       "      <td>Washington DC</td>\n",
       "      <td>3</td>\n",
       "      <td>Evan</td>\n",
       "      <td>NaN</td>\n",
       "      <td>False</td>\n",
       "    </tr>\n",
       "    <tr>\n",
       "      <th>5</th>\n",
       "      <td>NaN</td>\n",
       "      <td>Las Vegas</td>\n",
       "      <td>11</td>\n",
       "      <td>Paul</td>\n",
       "      <td>43836.0</td>\n",
       "      <td>False</td>\n",
       "    </tr>\n",
       "  </tbody>\n",
       "</table>\n",
       "</div>"
      ],
      "text/plain": [
       "   Unnamed: 0          Store  Employees    Manager    Since Flagship\n",
       "0         NaN       New York         10      Sarah  43301.0    False\n",
       "1         NaN  San Francisco         12     Neriah  43771.0  MISSING\n",
       "2         NaN        Chicago          4    Katelin  43861.0      NaN\n",
       "3         NaN         Boston          5  Georgiana  42826.0     True\n",
       "4         NaN  Washington DC          3       Evan      NaN    False\n",
       "5         NaN      Las Vegas         11       Paul  43836.0    False"
      ]
     },
     "execution_count": 42,
     "metadata": {},
     "output_type": "execute_result"
    }
   ],
   "source": [
    "import pandas as pd\n",
    "df = pd.read_excel('excel_files/stores.xlsb', engine='pyxlsb', skiprows=1)\n",
    "df"
   ]
  },
  {
   "cell_type": "code",
   "execution_count": null,
   "id": "4f51aac9-45d4-41a8-a91c-e00c113045e7",
   "metadata": {},
   "outputs": [],
   "source": []
  }
 ],
 "metadata": {
  "kernelspec": {
   "display_name": "Python 3 (ipykernel)",
   "language": "python",
   "name": "python3"
  },
  "language_info": {
   "codemirror_mode": {
    "name": "ipython",
    "version": 3
   },
   "file_extension": ".py",
   "mimetype": "text/x-python",
   "name": "python",
   "nbconvert_exporter": "python",
   "pygments_lexer": "ipython3",
   "version": "3.9.12"
  }
 },
 "nbformat": 4,
 "nbformat_minor": 5
}
