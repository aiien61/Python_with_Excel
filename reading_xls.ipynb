{
 "cells": [
  {
   "cell_type": "code",
   "execution_count": 2,
   "id": "a9b46713-29b0-41ea-a1c0-5b4fbb56595e",
   "metadata": {},
   "outputs": [],
   "source": [
    "import xlrd\n",
    "import xlwt\n",
    "import xlutils\n",
    "import excel\n",
    "from xlwt.Utils import cell_to_rowcol2"
   ]
  },
  {
   "cell_type": "markdown",
   "id": "b6c23654-60ed-4341-946a-4879fb1bdd11",
   "metadata": {},
   "source": [
    "## Reading with xlrd"
   ]
  },
  {
   "cell_type": "code",
   "execution_count": 3,
   "id": "49d2b0c1-47a2-4af2-adb3-4bd0e2c6a690",
   "metadata": {},
   "outputs": [],
   "source": [
    "# Open the workbook to read cell values. The file is automatically closed again after loading the data.\n",
    "book = xlrd.open_workbook('excel_files/stores.xls')"
   ]
  },
  {
   "cell_type": "code",
   "execution_count": 4,
   "id": "4eefcb7f-d393-4ed5-8e60-ec4fe6266a9e",
   "metadata": {},
   "outputs": [
    {
     "data": {
      "text/plain": [
       "['2019', '2020', '2019-2020']"
      ]
     },
     "execution_count": 4,
     "metadata": {},
     "output_type": "execute_result"
    }
   ],
   "source": [
    "# Get a list with all sheet names\n",
    "book.sheet_names()"
   ]
  },
  {
   "cell_type": "code",
   "execution_count": 5,
   "id": "533b6279-97e8-4799-b7aa-d8472a37d6b6",
   "metadata": {},
   "outputs": [
    {
     "name": "stdout",
     "output_type": "stream",
     "text": [
      "2019\n",
      "2020\n",
      "2019-2020\n"
     ]
    }
   ],
   "source": [
    "# Loop through the sheet objects\n",
    "for sheet in book.sheets():\n",
    "    print(sheet.name)"
   ]
  },
  {
   "cell_type": "code",
   "execution_count": 7,
   "id": "ea0efa1d-263d-4ef4-8d7e-e8481577d038",
   "metadata": {},
   "outputs": [
    {
     "data": {
      "text/plain": [
       "Sheet  0:<2019>"
      ]
     },
     "execution_count": 7,
     "metadata": {},
     "output_type": "execute_result"
    }
   ],
   "source": [
    "# Get a sheet object by name or index (0-based)\n",
    "sheet = book.sheet_by_index(0)\n",
    "sheet"
   ]
  },
  {
   "cell_type": "code",
   "execution_count": 8,
   "id": "ce551e20-81a0-4036-ac5c-cb39d8b0e5a6",
   "metadata": {},
   "outputs": [
    {
     "data": {
      "text/plain": [
       "Sheet  0:<2019>"
      ]
     },
     "execution_count": 8,
     "metadata": {},
     "output_type": "execute_result"
    }
   ],
   "source": [
    "sheet = book.sheet_by_name('2019')\n",
    "sheet"
   ]
  },
  {
   "cell_type": "code",
   "execution_count": 9,
   "id": "a609cb40-f6bc-4405-b668-27a0da8d2279",
   "metadata": {},
   "outputs": [
    {
     "data": {
      "text/plain": [
       "(8, 6)"
      ]
     },
     "execution_count": 9,
     "metadata": {},
     "output_type": "execute_result"
    }
   ],
   "source": [
    "# Dimensions\n",
    "sheet.nrows, sheet.ncols"
   ]
  },
  {
   "cell_type": "code",
   "execution_count": 10,
   "id": "1a75b8b2-acb3-4650-893a-1a6626ca8dd7",
   "metadata": {},
   "outputs": [
    {
     "data": {
      "text/plain": [
       "'New York'"
      ]
     },
     "execution_count": 10,
     "metadata": {},
     "output_type": "execute_result"
    }
   ],
   "source": [
    "# Read the value of a single cell using 'A1' notation and using cell indices(0-based)\n",
    "# The '*' unpacks the tuple that cell_to_rowcol2 returns into individual arguments.\n",
    "sheet.cell(*cell_to_rowcol2('B3')).value"
   ]
  },
  {
   "cell_type": "code",
   "execution_count": 11,
   "id": "ecf02ad0-3a58-41c9-8baf-a5d9f6d59e62",
   "metadata": {},
   "outputs": [
    {
     "data": {
      "text/plain": [
       "'New York'"
      ]
     },
     "execution_count": 11,
     "metadata": {},
     "output_type": "execute_result"
    }
   ],
   "source": [
    "sheet.cell(2, 1).value"
   ]
  },
  {
   "cell_type": "code",
   "execution_count": 12,
   "id": "aef6c0d5-7c8b-473a-b4ab-39cf2c79484c",
   "metadata": {},
   "outputs": [
    {
     "data": {
      "text/plain": [
       "[['Store', 'Employees', 'Manager', 'Since', 'Flagship'],\n",
       " ['New York', 10.0, 'Sarah', datetime.datetime(2018, 7, 20, 0, 0), False]]"
      ]
     },
     "execution_count": 12,
     "metadata": {},
     "output_type": "execute_result"
    }
   ],
   "source": [
    "# Read in a range of cell values by using the excel module\n",
    "data = excel.read(sheet, 'B2')\n",
    "\n",
    "# print the first two rows\n",
    "data[:2]"
   ]
  },
  {
   "cell_type": "markdown",
   "id": "25d459ba-da65-4123-ada1-928e4ccaa04b",
   "metadata": {},
   "source": [
    "## Editing with xlwt"
   ]
  },
  {
   "cell_type": "code",
   "execution_count": 13,
   "id": "3ba10ebe-d882-402b-b789-cea57bacb734",
   "metadata": {},
   "outputs": [],
   "source": [
    "import datetime as dt"
   ]
  },
  {
   "cell_type": "code",
   "execution_count": 14,
   "id": "2e50335a-e54c-46b7-b231-2bc957351a81",
   "metadata": {},
   "outputs": [],
   "source": [
    "# Instantiate a workbook\n",
    "book = xlwt.Workbook()"
   ]
  },
  {
   "cell_type": "code",
   "execution_count": 15,
   "id": "be425b24-e09d-47a9-9979-fd4354ed6e7e",
   "metadata": {},
   "outputs": [],
   "source": [
    "# Add a sheet and give it a name\n",
    "sheet = book.add_sheet('Sheet1')"
   ]
  },
  {
   "cell_type": "code",
   "execution_count": 16,
   "id": "446efbae-b0d9-408d-af8a-9bd348bb45f5",
   "metadata": {},
   "outputs": [],
   "source": [
    "# Writing individual cells using A1 notation and cell indices (0-based)\n",
    "sheet.write(*cell_to_rowcol2('A1'), 'Hello 1')"
   ]
  },
  {
   "cell_type": "code",
   "execution_count": 17,
   "id": "02aba38c-a0e8-438f-b212-a34189662157",
   "metadata": {},
   "outputs": [],
   "source": [
    "sheet.write(r=1, c=0, label='Hello 2')"
   ]
  },
  {
   "cell_type": "code",
   "execution_count": 19,
   "id": "45a2a4c3-cf26-4799-8d1e-89a3c6b94d03",
   "metadata": {},
   "outputs": [],
   "source": [
    "# Formatting: fill colour, alignment, border and font\n",
    "formatting = xlwt.easyxf('font: bold on, color red;'\n",
    "                         'align: horiz center;'\n",
    "                         'borders: top_color red, bottom_color red,'\n",
    "                                  'right_color red, left_color red,'\n",
    "                                  'left thin, right thin,'\n",
    "                                  'top thin, bottom thin;'\n",
    "                         'pattern: pattern solid, fore_color yellow;')\n",
    "\n",
    "sheet.write(r=2, c=0, label='Hello 3', style=formatting)"
   ]
  },
  {
   "cell_type": "code",
   "execution_count": 20,
   "id": "f7fac8db-e697-4e28-96bf-5097abdf96dc",
   "metadata": {},
   "outputs": [],
   "source": [
    "# Number formatting (using Excel's formatting strings)\n",
    "number_format = xlwt.easyxf(num_format_str='0.00')\n",
    "sheet.write(3, 0, 3.3333, number_format)"
   ]
  },
  {
   "cell_type": "code",
   "execution_count": 21,
   "id": "c485929b-9736-43dd-bc6b-f6d375d0f5b1",
   "metadata": {},
   "outputs": [],
   "source": [
    "# Date formatting (using Excel's formatting strings)\n",
    "date_format = xlwt.easyxf(num_format_str='mm/dd/yy')\n",
    "sheet.write(4, 0, dt.datetime(2012, 2, 3), date_format)"
   ]
  },
  {
   "cell_type": "code",
   "execution_count": 22,
   "id": "970b6b72-c649-43cf-8572-b82c29f8d9bb",
   "metadata": {},
   "outputs": [],
   "source": [
    "# Formula: must use the English name of the formula with commas as delimiters\n",
    "sheet.write(5, 0, xlwt.Formula('SUM(A4, 2)'))"
   ]
  },
  {
   "cell_type": "code",
   "execution_count": 23,
   "id": "0283b17a-a578-4aa7-a1d2-9ff50f253dc9",
   "metadata": {},
   "outputs": [],
   "source": [
    "# Two-dimensional list (using the excel module)\n",
    "data = [[None, 'North', 'South'],\n",
    "        ['Last Year', 2, 5],\n",
    "        ['This Year', 3, 6]]\n",
    "\n",
    "excel.write(sheet, data, 'A10')"
   ]
  },
  {
   "cell_type": "code",
   "execution_count": 27,
   "id": "f5bd257d-22b6-487f-9ecd-0a9092e64250",
   "metadata": {},
   "outputs": [],
   "source": [
    "# Picture (only allows to add bmp format)\n",
    "sheet.insert_bitmap('images/python.bmp', 0, 2)"
   ]
  },
  {
   "cell_type": "code",
   "execution_count": 28,
   "id": "5f0dfec5-1f35-407a-9898-4079d35ae6f6",
   "metadata": {},
   "outputs": [],
   "source": [
    "# This writes the file to disk\n",
    "book.save('xlwt.xls')"
   ]
  },
  {
   "cell_type": "markdown",
   "id": "0b7caf15-4969-428a-8fb0-6dcbfa7e8647",
   "metadata": {},
   "source": [
    "## Editing with xlutils"
   ]
  },
  {
   "cell_type": "markdown",
   "id": "515d5029-ad4f-4279-8cd3-7defe5310fd1",
   "metadata": {},
   "source": [
    "##### xlutils is a bridge of xlrd and xlwt. xlutils is not a real editing tool. Instead, xlutils can read workbooks and the format (formatting_info=True) through xlrd, and write the file via xlwt"
   ]
  },
  {
   "cell_type": "code",
   "execution_count": 29,
   "id": "d0ba844c-b2b3-4108-8c6d-f8dc6415250e",
   "metadata": {},
   "outputs": [],
   "source": [
    "import xlutils.copy"
   ]
  },
  {
   "cell_type": "code",
   "execution_count": 30,
   "id": "329c9db6-3f32-4b55-b013-b7e24e3e0674",
   "metadata": {},
   "outputs": [],
   "source": [
    "book = xlrd.open_workbook('excel_files/stores.xls', formatting_info=True)\n",
    "book = xlutils.copy.copy(book)\n",
    "book.get_sheet(0).write(0, 0, 'changed')\n",
    "book.save('stores_edited.xls')"
   ]
  },
  {
   "cell_type": "code",
   "execution_count": null,
   "id": "d9100edc-eb50-4c1c-aa48-76f3e3d95ad7",
   "metadata": {},
   "outputs": [],
   "source": []
  }
 ],
 "metadata": {
  "kernelspec": {
   "display_name": "Python 3 (ipykernel)",
   "language": "python",
   "name": "python3"
  },
  "language_info": {
   "codemirror_mode": {
    "name": "ipython",
    "version": 3
   },
   "file_extension": ".py",
   "mimetype": "text/x-python",
   "name": "python",
   "nbconvert_exporter": "python",
   "pygments_lexer": "ipython3",
   "version": "3.9.12"
  }
 },
 "nbformat": 4,
 "nbformat_minor": 5
}
