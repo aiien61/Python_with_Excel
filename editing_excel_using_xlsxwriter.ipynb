{
 "cells": [
  {
   "cell_type": "code",
   "execution_count": 2,
   "id": "0565888b-909c-4499-a196-2afb2652a37c",
   "metadata": {},
   "outputs": [],
   "source": [
    "import datetime as dt\n",
    "import xlsxwriter\n",
    "import excel"
   ]
  },
  {
   "cell_type": "code",
   "execution_count": 3,
   "id": "07023fdc-4223-4084-a290-ab3c2454d558",
   "metadata": {},
   "outputs": [],
   "source": [
    "# Instantiate a workbook\n",
    "book = xlsxwriter.Workbook('xlsxwriter.xlsx')"
   ]
  },
  {
   "cell_type": "code",
   "execution_count": 4,
   "id": "ef14c0f2-a9e2-4a12-82ad-d0d86b703293",
   "metadata": {},
   "outputs": [],
   "source": [
    "# Add a sheet and give it a name\n",
    "sheet = book.add_worksheet('Sheet1')"
   ]
  },
  {
   "cell_type": "code",
   "execution_count": 5,
   "id": "fee13a6f-3302-4a00-952b-8a9ad048c129",
   "metadata": {},
   "outputs": [
    {
     "data": {
      "text/plain": [
       "0"
      ]
     },
     "execution_count": 5,
     "metadata": {},
     "output_type": "execute_result"
    }
   ],
   "source": [
    "# Writing individual celss using A1 notation\n",
    "sheet.write('A1', 'Hello 1')"
   ]
  },
  {
   "cell_type": "code",
   "execution_count": 6,
   "id": "31f3a17d-b121-4c76-a642-0f10902b9f62",
   "metadata": {},
   "outputs": [
    {
     "data": {
      "text/plain": [
       "0"
      ]
     },
     "execution_count": 6,
     "metadata": {},
     "output_type": "execute_result"
    }
   ],
   "source": [
    "# or cell indices (0-based)\n",
    "sheet.write(1, 0, 'Hello 2')"
   ]
  },
  {
   "cell_type": "code",
   "execution_count": 7,
   "id": "578604d2-e97f-4396-9a74-bc3acc5637bc",
   "metadata": {},
   "outputs": [
    {
     "data": {
      "text/plain": [
       "0"
      ]
     },
     "execution_count": 7,
     "metadata": {},
     "output_type": "execute_result"
    }
   ],
   "source": [
    "# Formatting: fill colour, alignment, border and font\n",
    "formatting = book.add_format({'font_color': '#FF0000',\n",
    "                              'bg_color': '#FFFF00',\n",
    "                              'bold': True,\n",
    "                              'align': 'center',\n",
    "                              'border': 1,\n",
    "                              'border_color': '#FF0000'})\n",
    "\n",
    "sheet.write('A3', 'Hello 3', formatting)"
   ]
  },
  {
   "cell_type": "code",
   "execution_count": 8,
   "id": "a603efd2-ae49-462e-a15d-d1e0156bd9db",
   "metadata": {},
   "outputs": [
    {
     "data": {
      "text/plain": [
       "0"
      ]
     },
     "execution_count": 8,
     "metadata": {},
     "output_type": "execute_result"
    }
   ],
   "source": [
    "# Number formatting (using Excel's formatting strings)\n",
    "number_format = book.add_format({'num_format': '0.00'})\n",
    "sheet.write('A4', 3.3333, number_format)"
   ]
  },
  {
   "cell_type": "code",
   "execution_count": 9,
   "id": "99eb0455-86cc-49b8-9dd1-7a2bd8491ac7",
   "metadata": {},
   "outputs": [
    {
     "data": {
      "text/plain": [
       "0"
      ]
     },
     "execution_count": 9,
     "metadata": {},
     "output_type": "execute_result"
    }
   ],
   "source": [
    "# Date formatting (using Excel's formatting strings)\n",
    "date_format = book.add_format({'num_format': 'mm/dd/yy'})\n",
    "sheet.write('A5', dt.date(2016, 10, 13), date_format)"
   ]
  },
  {
   "cell_type": "code",
   "execution_count": 10,
   "id": "d5044988-9e5c-4820-b820-eaef254c77db",
   "metadata": {},
   "outputs": [
    {
     "data": {
      "text/plain": [
       "0"
      ]
     },
     "execution_count": 10,
     "metadata": {},
     "output_type": "execute_result"
    }
   ],
   "source": [
    "# Formula: you must use the English name of the formula with commas as delimiters\n",
    "sheet.write('A6', '=SUM(A4, 2)')"
   ]
  },
  {
   "cell_type": "code",
   "execution_count": 11,
   "id": "7768f273-9d59-4f04-96a7-ec4d25d16656",
   "metadata": {},
   "outputs": [
    {
     "data": {
      "text/plain": [
       "0"
      ]
     },
     "execution_count": 11,
     "metadata": {},
     "output_type": "execute_result"
    }
   ],
   "source": [
    "# Image\n",
    "sheet.insert_image(0, 2, 'images/python.png')"
   ]
  },
  {
   "cell_type": "code",
   "execution_count": 12,
   "id": "b9403d25-af31-48f9-a3a8-5b975b283978",
   "metadata": {},
   "outputs": [],
   "source": [
    "# Two-dimensional list (using excel module)\n",
    "data = [[None, 'North', 'South'],\n",
    "        ['Last Year', 2, 5],\n",
    "        ['This Year', 3, 6]]\n",
    "\n",
    "excel.write(sheet, data, 'A10')"
   ]
  },
  {
   "cell_type": "code",
   "execution_count": 14,
   "id": "d4f69bbf-0788-439f-8de8-e5ca0a3987e0",
   "metadata": {},
   "outputs": [
    {
     "data": {
      "text/plain": [
       "0"
      ]
     },
     "execution_count": 14,
     "metadata": {},
     "output_type": "execute_result"
    }
   ],
   "source": [
    "# Chart: see the file 'sales_report_xlsxwriter.py' in the companion repo to see how you can work with indices instead of cell addresses\n",
    "chart = book.add_chart({'type': 'column'})\n",
    "chart.set_title({'name': 'Sales per Region'})\n",
    "chart.add_series({'name': '=Sheet1!A11',\n",
    "                  'categories': '=Sheet1!B10:C10',\n",
    "                  'values': '=Sheet1!B11:C11'})\n",
    "chart.add_series({'name': '=Sheet1!A12',\n",
    "                  'categories': '=Sheet1!B10:C10',\n",
    "                  'values': '=Sheet1!B12:C12'})\n",
    "chart.set_x_axis({'name': 'Regions'})\n",
    "chart.set_y_axis({'name': 'Sales'})\n",
    "sheet.insert_chart('A15', chart)"
   ]
  },
  {
   "cell_type": "code",
   "execution_count": 15,
   "id": "0e42c1ce-62e8-427e-b02d-766ab8ee8c76",
   "metadata": {},
   "outputs": [],
   "source": [
    "# Closing the workbook creates the file on disk\n",
    "book.close()"
   ]
  },
  {
   "cell_type": "markdown",
   "id": "a4a49212-b0b9-4a1f-a379-e3d230cd7768",
   "metadata": {},
   "source": [
    "## Write an VBA excel file using xlsxwriter"
   ]
  },
  {
   "cell_type": "code",
   "execution_count": 18,
   "id": "500581a8-a7e3-4de1-b3e7-2cfbcedc4d73",
   "metadata": {},
   "outputs": [],
   "source": [
    "book = xlsxwriter.Workbook('macro_xlsxwriter.xlsm')\n",
    "sheet = book.add_worksheet('Sheet1')\n",
    "sheet.write('A1', 'Click the button')\n",
    "book.add_vba_project('excel_files/vbaProject.bin')\n",
    "sheet.insert_button('A3', {'macro': 'Hello', 'caption': 'Button 1', 'width': 130, 'height': 35})\n",
    "book.close()"
   ]
  },
  {
   "cell_type": "code",
   "execution_count": null,
   "id": "55362dd5-9feb-44ba-b2fe-fc4e89b7c137",
   "metadata": {},
   "outputs": [],
   "source": []
  }
 ],
 "metadata": {
  "kernelspec": {
   "display_name": "Python 3 (ipykernel)",
   "language": "python",
   "name": "python3"
  },
  "language_info": {
   "codemirror_mode": {
    "name": "ipython",
    "version": 3
   },
   "file_extension": ".py",
   "mimetype": "text/x-python",
   "name": "python",
   "nbconvert_exporter": "python",
   "pygments_lexer": "ipython3",
   "version": "3.9.12"
  }
 },
 "nbformat": 4,
 "nbformat_minor": 5
}
