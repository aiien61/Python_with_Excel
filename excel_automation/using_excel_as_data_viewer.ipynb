{
 "cells": [
  {
   "cell_type": "code",
   "execution_count": 1,
   "id": "d9fec067-34ad-4bb8-b92a-cd449920a151",
   "metadata": {},
   "outputs": [],
   "source": [
    "import datetime as dt\n",
    "import xlwings as xw\n",
    "import pandas as pd\n",
    "import numpy as np"
   ]
  },
  {
   "cell_type": "code",
   "execution_count": 2,
   "id": "c3547d7f-3d6a-4d23-ad86-145df1cdcc10",
   "metadata": {},
   "outputs": [
    {
     "data": {
      "text/html": [
       "<div>\n",
       "<style scoped>\n",
       "    .dataframe tbody tr th:only-of-type {\n",
       "        vertical-align: middle;\n",
       "    }\n",
       "\n",
       "    .dataframe tbody tr th {\n",
       "        vertical-align: top;\n",
       "    }\n",
       "\n",
       "    .dataframe thead th {\n",
       "        text-align: right;\n",
       "    }\n",
       "</style>\n",
       "<table border=\"1\" class=\"dataframe\">\n",
       "  <thead>\n",
       "    <tr style=\"text-align: right;\">\n",
       "      <th></th>\n",
       "      <th>Trial 1</th>\n",
       "      <th>Trial 2</th>\n",
       "      <th>Trial 3</th>\n",
       "      <th>Trial 4</th>\n",
       "      <th>Trial 5</th>\n",
       "    </tr>\n",
       "  </thead>\n",
       "  <tbody>\n",
       "    <tr>\n",
       "      <th>0</th>\n",
       "      <td>-0.181901</td>\n",
       "      <td>0.411274</td>\n",
       "      <td>-0.562873</td>\n",
       "      <td>-1.172769</td>\n",
       "      <td>-1.560108</td>\n",
       "    </tr>\n",
       "    <tr>\n",
       "      <th>1</th>\n",
       "      <td>1.113203</td>\n",
       "      <td>0.944507</td>\n",
       "      <td>0.842705</td>\n",
       "      <td>-2.076762</td>\n",
       "      <td>-0.141623</td>\n",
       "    </tr>\n",
       "    <tr>\n",
       "      <th>2</th>\n",
       "      <td>1.080139</td>\n",
       "      <td>-0.288835</td>\n",
       "      <td>0.801580</td>\n",
       "      <td>-0.765636</td>\n",
       "      <td>2.740322</td>\n",
       "    </tr>\n",
       "    <tr>\n",
       "      <th>3</th>\n",
       "      <td>1.816965</td>\n",
       "      <td>-0.045351</td>\n",
       "      <td>1.034088</td>\n",
       "      <td>-0.708792</td>\n",
       "      <td>-0.029963</td>\n",
       "    </tr>\n",
       "    <tr>\n",
       "      <th>4</th>\n",
       "      <td>-0.088667</td>\n",
       "      <td>-0.464184</td>\n",
       "      <td>1.180289</td>\n",
       "      <td>-1.528369</td>\n",
       "      <td>-1.235159</td>\n",
       "    </tr>\n",
       "    <tr>\n",
       "      <th>...</th>\n",
       "      <td>...</td>\n",
       "      <td>...</td>\n",
       "      <td>...</td>\n",
       "      <td>...</td>\n",
       "      <td>...</td>\n",
       "    </tr>\n",
       "    <tr>\n",
       "      <th>95</th>\n",
       "      <td>0.019348</td>\n",
       "      <td>-1.161475</td>\n",
       "      <td>-1.262550</td>\n",
       "      <td>0.802077</td>\n",
       "      <td>0.317753</td>\n",
       "    </tr>\n",
       "    <tr>\n",
       "      <th>96</th>\n",
       "      <td>0.832022</td>\n",
       "      <td>1.336561</td>\n",
       "      <td>-1.300376</td>\n",
       "      <td>-0.809538</td>\n",
       "      <td>0.858981</td>\n",
       "    </tr>\n",
       "    <tr>\n",
       "      <th>97</th>\n",
       "      <td>-0.094585</td>\n",
       "      <td>0.077824</td>\n",
       "      <td>0.530412</td>\n",
       "      <td>-0.727412</td>\n",
       "      <td>-1.038937</td>\n",
       "    </tr>\n",
       "    <tr>\n",
       "      <th>98</th>\n",
       "      <td>0.615831</td>\n",
       "      <td>1.022515</td>\n",
       "      <td>1.484322</td>\n",
       "      <td>-0.138126</td>\n",
       "      <td>0.068156</td>\n",
       "    </tr>\n",
       "    <tr>\n",
       "      <th>99</th>\n",
       "      <td>-1.277439</td>\n",
       "      <td>-0.597446</td>\n",
       "      <td>0.913023</td>\n",
       "      <td>0.918239</td>\n",
       "      <td>-0.136769</td>\n",
       "    </tr>\n",
       "  </tbody>\n",
       "</table>\n",
       "<p>100 rows × 5 columns</p>\n",
       "</div>"
      ],
      "text/plain": [
       "     Trial 1   Trial 2   Trial 3   Trial 4   Trial 5\n",
       "0  -0.181901  0.411274 -0.562873 -1.172769 -1.560108\n",
       "1   1.113203  0.944507  0.842705 -2.076762 -0.141623\n",
       "2   1.080139 -0.288835  0.801580 -0.765636  2.740322\n",
       "3   1.816965 -0.045351  1.034088 -0.708792 -0.029963\n",
       "4  -0.088667 -0.464184  1.180289 -1.528369 -1.235159\n",
       "..       ...       ...       ...       ...       ...\n",
       "95  0.019348 -1.161475 -1.262550  0.802077  0.317753\n",
       "96  0.832022  1.336561 -1.300376 -0.809538  0.858981\n",
       "97 -0.094585  0.077824  0.530412 -0.727412 -1.038937\n",
       "98  0.615831  1.022515  1.484322 -0.138126  0.068156\n",
       "99 -1.277439 -0.597446  0.913023  0.918239 -0.136769\n",
       "\n",
       "[100 rows x 5 columns]"
      ]
     },
     "execution_count": 2,
     "metadata": {},
     "output_type": "execute_result"
    }
   ],
   "source": [
    "# Create a DataFrame based on pseudorandom numbers and with enough rows that only the head and tail are shown\n",
    "df = pd.DataFrame(data=np.random.randn(100, 5), columns=[f'Trial {i}' for i in range(1, 6)])\n",
    "df"
   ]
  },
  {
   "cell_type": "code",
   "execution_count": 11,
   "id": "8ed26081-05dd-4cde-b36d-7b59d04196ee",
   "metadata": {},
   "outputs": [],
   "source": [
    "# View the DataFrame in Excel\n",
    "xw.view(df)"
   ]
  },
  {
   "cell_type": "code",
   "execution_count": 3,
   "id": "38f034b9",
   "metadata": {},
   "outputs": [
    {
     "data": {
      "text/plain": [
       "'Book1'"
      ]
     },
     "execution_count": 3,
     "metadata": {},
     "output_type": "execute_result"
    }
   ],
   "source": [
    "# Create a new empty workbook and print its name. This is the book we will \n",
    "# use to run most of the code samples in this chapter.\n",
    "\n",
    "book = xw.Book()\n",
    "book.name"
   ]
  },
  {
   "cell_type": "code",
   "execution_count": 4,
   "id": "c61c8cb9",
   "metadata": {},
   "outputs": [
    {
     "data": {
      "text/plain": [
       "Sheets([<Sheet [Book1]Sheet1>])"
      ]
     },
     "execution_count": 4,
     "metadata": {},
     "output_type": "execute_result"
    }
   ],
   "source": [
    "# Accessing the sheets collection\n",
    "book.sheets"
   ]
  },
  {
   "cell_type": "code",
   "execution_count": 5,
   "id": "e0079c5d",
   "metadata": {},
   "outputs": [],
   "source": [
    "# Get a sheet object by index or name. \n",
    "sheet1 = book.sheets[0]\n",
    "shhet1 = book.sheets['Sheet1']  # change Sheet1 if the name of the sheet is different"
   ]
  },
  {
   "cell_type": "code",
   "execution_count": 6,
   "id": "7ffdea33",
   "metadata": {},
   "outputs": [
    {
     "data": {
      "text/plain": [
       "<Range [Book1]Sheet1!$A$1>"
      ]
     },
     "execution_count": 6,
     "metadata": {},
     "output_type": "execute_result"
    }
   ],
   "source": [
    "sheet1.range('A1')"
   ]
  },
  {
   "cell_type": "code",
   "execution_count": 7,
   "id": "0cd49f53",
   "metadata": {},
   "outputs": [],
   "source": [
    "# Write values\n",
    "sheet1.range('A1').value = [[1, 2], [3, 4]]\n",
    "sheet1.range('A4').value = 'Hello!'"
   ]
  },
  {
   "cell_type": "code",
   "execution_count": 8,
   "id": "4c4dca0b",
   "metadata": {},
   "outputs": [
    {
     "data": {
      "text/plain": [
       "[[1.0, 2.0], [3.0, 4.0]]"
      ]
     },
     "execution_count": 8,
     "metadata": {},
     "output_type": "execute_result"
    }
   ],
   "source": [
    "# Read values\n",
    "sheet1.range('A1:B2').value"
   ]
  },
  {
   "cell_type": "code",
   "execution_count": 9,
   "id": "c3a7730b",
   "metadata": {},
   "outputs": [
    {
     "data": {
      "text/plain": [
       "'Hello!'"
      ]
     },
     "execution_count": 9,
     "metadata": {},
     "output_type": "execute_result"
    }
   ],
   "source": [
    "sheet1.range('A4').value"
   ]
  },
  {
   "cell_type": "code",
   "execution_count": 10,
   "id": "86ff33e2",
   "metadata": {},
   "outputs": [
    {
     "data": {
      "text/plain": [
       "<Range [Book1]Sheet1!$A$1>"
      ]
     },
     "execution_count": 10,
     "metadata": {},
     "output_type": "execute_result"
    }
   ],
   "source": [
    "# Indexing\n",
    "sheet1.range('A1:B2')[0, 0]"
   ]
  },
  {
   "cell_type": "code",
   "execution_count": 12,
   "id": "c5662b40",
   "metadata": {},
   "outputs": [
    {
     "data": {
      "text/plain": [
       "1.0"
      ]
     },
     "execution_count": 12,
     "metadata": {},
     "output_type": "execute_result"
    }
   ],
   "source": [
    "sheet1.range('A1:B2')[0, 0].value"
   ]
  },
  {
   "cell_type": "code",
   "execution_count": 13,
   "id": "b2ccbc63",
   "metadata": {},
   "outputs": [
    {
     "data": {
      "text/plain": [
       "<Range [Book1]Sheet1!$B$1:$B$2>"
      ]
     },
     "execution_count": 13,
     "metadata": {},
     "output_type": "execute_result"
    }
   ],
   "source": [
    "# Slicing\n",
    "sheet1.range('A1:B2')[:, 1]"
   ]
  },
  {
   "cell_type": "code",
   "execution_count": 14,
   "id": "93134085",
   "metadata": {},
   "outputs": [
    {
     "data": {
      "text/plain": [
       "[2.0, 4.0]"
      ]
     },
     "execution_count": 14,
     "metadata": {},
     "output_type": "execute_result"
    }
   ],
   "source": [
    "sheet1.range('A1:B2')[:, 1].value"
   ]
  },
  {
   "cell_type": "code",
   "execution_count": null,
   "id": "3d9f0974",
   "metadata": {},
   "outputs": [],
   "source": []
  }
 ],
 "metadata": {
  "kernelspec": {
   "display_name": "Python 3 (ipykernel)",
   "language": "python",
   "name": "python3"
  },
  "language_info": {
   "codemirror_mode": {
    "name": "ipython",
    "version": 3
   },
   "file_extension": ".py",
   "mimetype": "text/x-python",
   "name": "python",
   "nbconvert_exporter": "python",
   "pygments_lexer": "ipython3",
   "version": "3.11.5"
  }
 },
 "nbformat": 4,
 "nbformat_minor": 5
}
