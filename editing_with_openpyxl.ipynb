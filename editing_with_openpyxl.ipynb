{
 "cells": [
  {
   "cell_type": "code",
   "execution_count": 1,
   "id": "e93a73a4-b629-49aa-9281-11fe6b45f114",
   "metadata": {},
   "outputs": [],
   "source": [
    "import openpyxl"
   ]
  },
  {
   "cell_type": "code",
   "execution_count": 2,
   "id": "ac345860-4a08-4a94-8802-dc0900259e4e",
   "metadata": {},
   "outputs": [],
   "source": [
    "# Read the stores.xlsx file, change a cell and store it under a new location/name.\n",
    "book = openpyxl.load_workbook('excel_files/stores.xlsx')\n",
    "book['2019']['A1'].value = 'modified'\n",
    "book.save('stores_edited.xlsx')"
   ]
  },
  {
   "cell_type": "code",
   "execution_count": 3,
   "id": "a6bdf641-370f-420c-bbf3-8247449946cd",
   "metadata": {},
   "outputs": [],
   "source": [
    "# Edit a xlsm file, must set keep_vba=True\n",
    "book = openpyxl.load_workbook('excel_files/macro.xlsm', keep_vba=True)\n",
    "book['Sheet1']['A1'].value = 'Click the button'\n",
    "book.save('macro_openpyxl.xlsm')"
   ]
  },
  {
   "cell_type": "code",
   "execution_count": null,
   "id": "c62a7816-9ad4-4009-a109-170d4b4217bb",
   "metadata": {},
   "outputs": [],
   "source": []
  }
 ],
 "metadata": {
  "kernelspec": {
   "display_name": "Python 3 (ipykernel)",
   "language": "python",
   "name": "python3"
  },
  "language_info": {
   "codemirror_mode": {
    "name": "ipython",
    "version": 3
   },
   "file_extension": ".py",
   "mimetype": "text/x-python",
   "name": "python",
   "nbconvert_exporter": "python",
   "pygments_lexer": "ipython3",
   "version": "3.9.12"
  }
 },
 "nbformat": 4,
 "nbformat_minor": 5
}
