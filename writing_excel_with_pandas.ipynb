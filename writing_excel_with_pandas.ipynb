{
 "cells": [
  {
   "cell_type": "code",
   "execution_count": 3,
   "id": "fc078712-22dd-4d1e-84ec-fdff76f66dbb",
   "metadata": {},
   "outputs": [],
   "source": [
    "import numpy as np\n",
    "import pandas as pd\n",
    "import datetime as dt"
   ]
  },
  {
   "cell_type": "code",
   "execution_count": 4,
   "id": "3983ca58-9ff4-4168-a9c4-b6c0b19bc0c4",
   "metadata": {},
   "outputs": [
    {
     "data": {
      "text/html": [
       "<div>\n",
       "<style scoped>\n",
       "    .dataframe tbody tr th:only-of-type {\n",
       "        vertical-align: middle;\n",
       "    }\n",
       "\n",
       "    .dataframe tbody tr th {\n",
       "        vertical-align: top;\n",
       "    }\n",
       "\n",
       "    .dataframe thead th {\n",
       "        text-align: right;\n",
       "    }\n",
       "</style>\n",
       "<table border=\"1\" class=\"dataframe\">\n",
       "  <thead>\n",
       "    <tr style=\"text-align: right;\">\n",
       "      <th></th>\n",
       "      <th>Dates</th>\n",
       "      <th>Float</th>\n",
       "      <th>Integers</th>\n",
       "      <th>Booleans</th>\n",
       "    </tr>\n",
       "    <tr>\n",
       "      <th>index</th>\n",
       "      <th></th>\n",
       "      <th></th>\n",
       "      <th></th>\n",
       "      <th></th>\n",
       "    </tr>\n",
       "  </thead>\n",
       "  <tbody>\n",
       "    <tr>\n",
       "      <th>0</th>\n",
       "      <td>2020-01-01 10:13:00</td>\n",
       "      <td>2.222</td>\n",
       "      <td>1</td>\n",
       "      <td>True</td>\n",
       "    </tr>\n",
       "    <tr>\n",
       "      <th>1</th>\n",
       "      <td>2020-01-02 00:00:00</td>\n",
       "      <td>NaN</td>\n",
       "      <td>2</td>\n",
       "      <td>False</td>\n",
       "    </tr>\n",
       "    <tr>\n",
       "      <th>2</th>\n",
       "      <td>2020-01-02 00:00:00</td>\n",
       "      <td>inf</td>\n",
       "      <td>3</td>\n",
       "      <td>True</td>\n",
       "    </tr>\n",
       "  </tbody>\n",
       "</table>\n",
       "</div>"
      ],
      "text/plain": [
       "                    Dates  Float  Integers  Booleans\n",
       "index                                               \n",
       "0     2020-01-01 10:13:00  2.222         1      True\n",
       "1     2020-01-02 00:00:00    NaN         2     False\n",
       "2     2020-01-02 00:00:00    inf         3      True"
      ]
     },
     "execution_count": 4,
     "metadata": {},
     "output_type": "execute_result"
    }
   ],
   "source": [
    "data = [[dt.datetime(2020, 1, 1, 10, 13), 2.222, 1, True],\n",
    "        [dt.datetime(2020, 1, 2), np.nan, 2, False],\n",
    "        [dt.datetime(2020, 1, 2), np.inf, 3, True]]\n",
    "\n",
    "df = pd.DataFrame(data=data, columns=['Dates', 'Float', 'Integers', 'Booleans'])\n",
    "df.index.name = 'index'\n",
    "df"
   ]
  },
  {
   "cell_type": "code",
   "execution_count": 6,
   "id": "f201a879-2bd9-4077-8485-a165e8b111e5",
   "metadata": {},
   "outputs": [],
   "source": [
    "df.to_excel('written_with_pandas.xlsx', sheet_name='Output',\n",
    "            startrow=1, startcol=1, index=True, header=True,\n",
    "            na_rep='<NA>', inf_rep='<INF>')"
   ]
  },
  {
   "cell_type": "markdown",
   "id": "6f1be402-a22d-4c47-83c0-5b650165a42f",
   "metadata": {},
   "source": [
    "## Writing multiple DataFrames to a workbook or different workbooks by ExcelWriter"
   ]
  },
  {
   "cell_type": "code",
   "execution_count": 7,
   "id": "37f460a3-57a9-49f5-be0e-31a4afd719a1",
   "metadata": {},
   "outputs": [],
   "source": [
    "with pd.ExcelWriter('written_with_pandas2.xlsx') as writer:\n",
    "    df.to_excel(writer, sheet_name='Sheet1', startrow=1, startcol=1)\n",
    "    df.to_excel(writer, sheet_name='Sheet1', startrow=10, startcol=1)\n",
    "    df.to_excel(writer, sheet_name='Sheet2')"
   ]
  },
  {
   "cell_type": "code",
   "execution_count": null,
   "id": "71e344f9-7c83-4d45-b7f6-04f9adbf1b0e",
   "metadata": {},
   "outputs": [],
   "source": []
  }
 ],
 "metadata": {
  "kernelspec": {
   "display_name": "Python 3 (ipykernel)",
   "language": "python",
   "name": "python3"
  },
  "language_info": {
   "codemirror_mode": {
    "name": "ipython",
    "version": 3
   },
   "file_extension": ".py",
   "mimetype": "text/x-python",
   "name": "python",
   "nbconvert_exporter": "python",
   "pygments_lexer": "ipython3",
   "version": "3.9.12"
  }
 },
 "nbformat": 4,
 "nbformat_minor": 5
}
