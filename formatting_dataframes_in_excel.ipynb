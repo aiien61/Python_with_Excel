{
 "cells": [
  {
   "cell_type": "code",
   "execution_count": 15,
   "id": "a9250883-d972-4d3e-b4dd-a74bf831b337",
   "metadata": {},
   "outputs": [],
   "source": [
    "import openpyxl\n",
    "import pandas as pd\n",
    "import datetime as dt"
   ]
  },
  {
   "cell_type": "code",
   "execution_count": 2,
   "id": "996e4a26-8431-45c9-8e8b-908984ea03f0",
   "metadata": {},
   "outputs": [],
   "source": [
    "with pd.ExcelFile('excel_files/stores.xlsx', engine='openpyxl') as xlfile:\n",
    "    # Read a DataFrame\n",
    "    df = pd.read_excel(xlfile, sheet_name='2020')\n",
    "    \n",
    "    # Get the OpenPyXL workbook object\n",
    "    book = xlfile.book\n",
    "    \n",
    "    # From here on, it's OpenPyXL code\n",
    "    sheet = book['2019']\n",
    "    value = sheet['B3'].value  # Read a single value"
   ]
  },
  {
   "cell_type": "code",
   "execution_count": 3,
   "id": "e4ca7a5f-1375-43f9-a865-7c40c7e07bf1",
   "metadata": {},
   "outputs": [
    {
     "name": "stderr",
     "output_type": "stream",
     "text": [
      "/tmp/ipykernel_48175/2754380846.py:5: FutureWarning: Starting with pandas version 3.0 all arguments of to_excel except for the argument 'excel_writer' will be keyword-only.\n",
      "  df.to_excel(writer, 'Sheet1', startrow=4, startcol=2)\n"
     ]
    }
   ],
   "source": [
    "with pd.ExcelWriter('pandas_and_openpyxl.xlsx', engine='openpyxl') as writer:\n",
    "    df = pd.DataFrame({'col1': [1, 2, 3, 4], 'col2': [5, 6, 7, 8]})\n",
    "    \n",
    "    # Write a DataFrame\n",
    "    df.to_excel(writer, 'Sheet1', startrow=4, startcol=2)\n",
    "    \n",
    "    # Get the OpenPyXL workbook and sheet objects\n",
    "    book = writer.book\n",
    "    sheet = writer.sheets['Sheet1']\n",
    "    \n",
    "    # From here on, it's OpenPyXL code\n",
    "    sheet['A1'].value = 'This is a Title' # Write a single cell value"
   ]
  },
  {
   "cell_type": "markdown",
   "id": "39988cce-5d97-47d9-9cbe-7306a3bb6ed8",
   "metadata": {},
   "source": [
    "## Adjust DataFrame index and header"
   ]
  },
  {
   "cell_type": "code",
   "execution_count": 4,
   "id": "19c848b9-490f-4a5c-8e9a-c7705a48a0a7",
   "metadata": {},
   "outputs": [
    {
     "data": {
      "text/html": [
       "<div>\n",
       "<style scoped>\n",
       "    .dataframe tbody tr th:only-of-type {\n",
       "        vertical-align: middle;\n",
       "    }\n",
       "\n",
       "    .dataframe tbody tr th {\n",
       "        vertical-align: top;\n",
       "    }\n",
       "\n",
       "    .dataframe thead th {\n",
       "        text-align: right;\n",
       "    }\n",
       "</style>\n",
       "<table border=\"1\" class=\"dataframe\">\n",
       "  <thead>\n",
       "    <tr style=\"text-align: right;\">\n",
       "      <th></th>\n",
       "      <th>col1</th>\n",
       "      <th>col2</th>\n",
       "    </tr>\n",
       "    <tr>\n",
       "      <th>ix</th>\n",
       "      <th></th>\n",
       "      <th></th>\n",
       "    </tr>\n",
       "  </thead>\n",
       "  <tbody>\n",
       "    <tr>\n",
       "      <th>row1</th>\n",
       "      <td>1</td>\n",
       "      <td>-3</td>\n",
       "    </tr>\n",
       "    <tr>\n",
       "      <th>row2</th>\n",
       "      <td>-2</td>\n",
       "      <td>4</td>\n",
       "    </tr>\n",
       "  </tbody>\n",
       "</table>\n",
       "</div>"
      ],
      "text/plain": [
       "      col1  col2\n",
       "ix              \n",
       "row1     1    -3\n",
       "row2    -2     4"
      ]
     },
     "execution_count": 4,
     "metadata": {},
     "output_type": "execute_result"
    }
   ],
   "source": [
    "df = pd.DataFrame({'col1': [1, -2], 'col2': [-3, 4]}, index=['row1', 'row2'])\n",
    "df.index.name = 'ix'\n",
    "df"
   ]
  },
  {
   "cell_type": "markdown",
   "id": "30678c4c-ee1e-4e75-8cde-6543e85fbe63",
   "metadata": {},
   "source": [
    "### Formatting index/headers with OpenPyXL"
   ]
  },
  {
   "cell_type": "code",
   "execution_count": 5,
   "id": "0e07fee6-c1c9-41ec-b061-b6b79ae130aa",
   "metadata": {},
   "outputs": [],
   "source": [
    "from openpyxl.styles import PatternFill"
   ]
  },
  {
   "cell_type": "code",
   "execution_count": 7,
   "id": "a8805923-224c-4a27-83e0-f2b9efe773cf",
   "metadata": {},
   "outputs": [],
   "source": [
    "with pd.ExcelWriter('formatting_openpyxl.xlsx', engine='openpyxl') as writer:\n",
    "    # Write out the df with the default formatting to A1\n",
    "    df.to_excel(writer, startrow=0, startcol=0)\n",
    "    \n",
    "    # Write out the df with custom index/header formatting to A6\n",
    "    startrow, startcol = 0, 5\n",
    "    \n",
    "    # 1. Write out the data part of the DataFrame\n",
    "    df.to_excel(writer, header=False, index=False, startrow=startrow + 1, startcol=startcol + 1)\n",
    "    \n",
    "    # Get the sheet object and create a style object\n",
    "    sheet = writer.sheets['Sheet1']\n",
    "    style = PatternFill(fgColor='D9D9D9', fill_type='solid')\n",
    "    \n",
    "    # 2. Write out the styled column headers\n",
    "    for i, col in enumerate(df.columns):\n",
    "        sheet.cell(row=startrow + 1, column=i + startcol + 2, value=col).fill = style\n",
    "        \n",
    "    # 3. Write out the styled index\n",
    "    index = [df.index.name if df.index.name else None] + list(df.index)\n",
    "    for i, row in enumerate(index):\n",
    "        sheet.cell(row=i + startrow + 1, column=startcol + 1, value=row).fill = style"
   ]
  },
  {
   "cell_type": "markdown",
   "id": "70b1f123-5f67-44ea-89f5-b5584da757bc",
   "metadata": {},
   "source": [
    "### Formatting indx/headers with XlsxWriter"
   ]
  },
  {
   "cell_type": "code",
   "execution_count": 8,
   "id": "8ee14da8-1148-425d-a1c1-27621bc94c75",
   "metadata": {},
   "outputs": [],
   "source": [
    "with pd.ExcelWriter('formatting_xlsxwriter.xlsx', engine='xlsxwriter') as writer:\n",
    "    # Write out the df with the default formatting to A1\n",
    "    df.to_excel(writer, startrow=0, startcol=0)\n",
    "    \n",
    "    # Write out the df with custom index/header formatting to A6\n",
    "    startrow, startcol = 0, 5\n",
    "    \n",
    "    # 1. Write out the data part of the DataFrame\n",
    "    df.to_excel(writer, header=False, index=False, startrow=startrow + 1, startcol=startcol + 1)\n",
    "    \n",
    "    # Get the book and sheet object and create a style object\n",
    "    book = writer.book\n",
    "    sheet = writer.sheets['Sheet1']\n",
    "    style = book.add_format({'bg_color': '#D9D9D9'})\n",
    "    \n",
    "    # 2. Write out the styled column headers\n",
    "    for i, col in enumerate(df.columns):\n",
    "        sheet.write(startrow, startcol + i + 1, col, style)\n",
    "        \n",
    "    # 3. Write out the styled index\n",
    "    index = [df.index.name if df.index.name else None] + list(df.index)\n",
    "    for i, row in enumerate(index):\n",
    "        sheet.write(startrow + i, startcol, row, style)"
   ]
  },
  {
   "cell_type": "markdown",
   "id": "d37af8ea-e28d-4318-91c6-56821af87083",
   "metadata": {},
   "source": [
    "## Set Data Format"
   ]
  },
  {
   "cell_type": "markdown",
   "id": "afeb065b-9f72-4259-879a-3bd6342dc47d",
   "metadata": {},
   "source": [
    "### Adjusting with OpenPyXL"
   ]
  },
  {
   "cell_type": "code",
   "execution_count": 9,
   "id": "d1d6c549-927b-45d0-9f5a-ae72c52c0095",
   "metadata": {},
   "outputs": [],
   "source": [
    "from openpyxl.styles import Alignment"
   ]
  },
  {
   "cell_type": "code",
   "execution_count": 10,
   "id": "aa96201a-5443-4a2d-a826-5a60fa172ca2",
   "metadata": {},
   "outputs": [],
   "source": [
    "with pd.ExcelWriter('data_format_openpyxl.xlsx', engine='openpyxl') as writer:\n",
    "    # Write out the DataFrame\n",
    "    df.to_excel(writer)\n",
    "    \n",
    "    # Get the book and sheet objects\n",
    "    book = writer.book\n",
    "    sheet = writer.sheets['Sheet1']\n",
    "    \n",
    "    # Formatting individual cells\n",
    "    nrows, ncols = df.shape\n",
    "    for row in range(nrows):\n",
    "        for col in range(ncols):\n",
    "            # +1 to account for the header/index\n",
    "            # +1 since OpenPyXL is 1-based\n",
    "            cell = sheet.cell(row=row + 2, column=col + 2)\n",
    "            cell.number_format = '0.000'\n",
    "            cell.alignment = Alignment(horizontal='center')"
   ]
  },
  {
   "cell_type": "markdown",
   "id": "6a7daa2b-6d8b-4052-8776-7418b4cfed89",
   "metadata": {},
   "source": [
    "### Adjusting with Xlsx"
   ]
  },
  {
   "cell_type": "code",
   "execution_count": 11,
   "id": "a940756b-8073-44cb-bc26-c73f23813282",
   "metadata": {},
   "outputs": [],
   "source": [
    "with pd.ExcelWriter('data_format_xlsxwriter.xlsx', engine='xlsxwriter') as writer:\n",
    "    # Write out the DataFrame\n",
    "    df.to_excel(writer)\n",
    "    \n",
    "    # Get the book and sheet objects\n",
    "    book = writer.book\n",
    "    sheet = writer.sheets['Sheet1']\n",
    "    \n",
    "    # Formatting the columns (individual cells can't be formatted)\n",
    "    number_format = book.add_format({'num_format': '0.000', 'align': 'center'})\n",
    "    sheet.set_column(first_col=1, last_col=2, cell_format=number_format)"
   ]
  },
  {
   "cell_type": "markdown",
   "id": "46890374-4fb0-46a5-85c1-bbc29c956482",
   "metadata": {},
   "source": [
    "### Adjusting with Pandas"
   ]
  },
  {
   "cell_type": "code",
   "execution_count": 13,
   "id": "5b156913-2ec0-4cb8-a986-1b63ac9db288",
   "metadata": {},
   "outputs": [
    {
     "name": "stderr",
     "output_type": "stream",
     "text": [
      "/tmp/ipykernel_48175/2213964731.py:1: FutureWarning: Styler.applymap has been deprecated. Use Styler.map instead.\n",
      "  df.style.applymap(lambda x: 'number-format: 0.000;text-align: center').to_excel('styled.xlsx')\n"
     ]
    }
   ],
   "source": [
    "df.style.applymap(lambda x: 'number-format: 0.000;text-align: center').to_excel('styled.xlsx')"
   ]
  },
  {
   "cell_type": "code",
   "execution_count": 16,
   "id": "26614dec-860d-4997-bfed-1645f7f71ca8",
   "metadata": {},
   "outputs": [],
   "source": [
    "df = pd.DataFrame({'Date': [dt.date(2020, 1, 1)],\n",
    "                   'Datetime': [dt.datetime(2020, 1, 1, 10)]})\n",
    "\n",
    "with pd.ExcelWriter('date.xlsx', date_format='yyyy-mm-dd', datetime_format='yyyy-mm-dd hh:mm:ss') as writer:\n",
    "    df.to_excel(writer)"
   ]
  },
  {
   "cell_type": "code",
   "execution_count": null,
   "id": "07bb200f-f8d8-4ae6-9532-f73e3b86d60a",
   "metadata": {},
   "outputs": [],
   "source": []
  }
 ],
 "metadata": {
  "kernelspec": {
   "display_name": "Python 3 (ipykernel)",
   "language": "python",
   "name": "python3"
  },
  "language_info": {
   "codemirror_mode": {
    "name": "ipython",
    "version": 3
   },
   "file_extension": ".py",
   "mimetype": "text/x-python",
   "name": "python",
   "nbconvert_exporter": "python",
   "pygments_lexer": "ipython3",
   "version": "3.9.12"
  }
 },
 "nbformat": 4,
 "nbformat_minor": 5
}
