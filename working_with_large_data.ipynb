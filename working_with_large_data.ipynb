{
 "cells": [
  {
   "cell_type": "code",
   "execution_count": 1,
   "id": "0dd56b76-1634-42fc-b31b-74cc544dbda9",
   "metadata": {},
   "outputs": [
    {
     "name": "stderr",
     "output_type": "stream",
     "text": [
      "/opt/conda/lib/python3.9/site-packages/pandas/core/computation/expressions.py:21: UserWarning: Pandas requires version '2.8.4' or newer of 'numexpr' (version '2.8.0' currently installed).\n",
      "  from pandas.core.computation.check import NUMEXPR_INSTALLED\n",
      "/opt/conda/lib/python3.9/site-packages/pandas/core/arrays/masked.py:60: UserWarning: Pandas requires version '1.3.6' or newer of 'bottleneck' (version '1.3.4' currently installed).\n",
      "  from pandas.core import (\n"
     ]
    }
   ],
   "source": [
    "import openpyxl\n",
    "import xlsxwriter\n",
    "import xlrd\n",
    "import xlwt\n",
    "import pandas as pd"
   ]
  },
  {
   "cell_type": "markdown",
   "id": "b9b98392-c469-42b0-bde8-5f7a7111f824",
   "metadata": {},
   "source": [
    "## Writing with OpenPyXL"
   ]
  },
  {
   "cell_type": "code",
   "execution_count": 2,
   "id": "65085f81-49f3-4e55-9789-92c9504a6bfe",
   "metadata": {},
   "outputs": [],
   "source": [
    "book = openpyxl.Workbook(write_only=True)\n",
    "\n",
    "# With write_only=True, book.active doesn't work\n",
    "sheet = book.create_sheet()\n",
    "\n",
    "# This will produce a sheet with 1000 x 200 cells\n",
    "for row in range(1000):\n",
    "    sheet.append(list(range(200)))\n",
    "\n",
    "book.save('openpyxl_optimized.xlsx')"
   ]
  },
  {
   "cell_type": "markdown",
   "id": "d26134ab-1802-4ca3-b0b3-de320fb0b6e4",
   "metadata": {},
   "source": [
    "## Writing with XlsxWriter"
   ]
  },
  {
   "cell_type": "code",
   "execution_count": 3,
   "id": "a4e0f186-227d-4e83-a51f-5c5f2ae0c604",
   "metadata": {},
   "outputs": [],
   "source": [
    "book = xlsxwriter.Workbook('xlsxwriter_optimized.xlsx', options={'constant_memory': True})\n",
    "\n",
    "sheet = book.add_worksheet()\n",
    "\n",
    "# This will produce a sheet with 1000 x 200 cells\n",
    "for row in range(1000):\n",
    "    sheet.write_row(row, 0, list(range(200)))\n",
    "    \n",
    "book.close()"
   ]
  },
  {
   "cell_type": "markdown",
   "id": "4544cecb-3e53-4c99-9f79-7171aed5a824",
   "metadata": {},
   "source": [
    "## Reading with xlrd"
   ]
  },
  {
   "cell_type": "code",
   "execution_count": 4,
   "id": "e87623bd-8dc9-4642-843b-ede31bb4f71c",
   "metadata": {},
   "outputs": [
    {
     "data": {
      "text/html": [
       "<div>\n",
       "<style scoped>\n",
       "    .dataframe tbody tr th:only-of-type {\n",
       "        vertical-align: middle;\n",
       "    }\n",
       "\n",
       "    .dataframe tbody tr th {\n",
       "        vertical-align: top;\n",
       "    }\n",
       "\n",
       "    .dataframe thead th {\n",
       "        text-align: right;\n",
       "    }\n",
       "</style>\n",
       "<table border=\"1\" class=\"dataframe\">\n",
       "  <thead>\n",
       "    <tr style=\"text-align: right;\">\n",
       "      <th></th>\n",
       "      <th>Unnamed: 0</th>\n",
       "      <th>Store</th>\n",
       "      <th>Employees</th>\n",
       "      <th>Manager</th>\n",
       "      <th>Since</th>\n",
       "      <th>Flagship</th>\n",
       "    </tr>\n",
       "  </thead>\n",
       "  <tbody>\n",
       "    <tr>\n",
       "      <th>0</th>\n",
       "      <td>NaN</td>\n",
       "      <td>New York</td>\n",
       "      <td>10</td>\n",
       "      <td>Sarah</td>\n",
       "      <td>2018-07-20</td>\n",
       "      <td>False</td>\n",
       "    </tr>\n",
       "    <tr>\n",
       "      <th>1</th>\n",
       "      <td>NaN</td>\n",
       "      <td>San Francisco</td>\n",
       "      <td>12</td>\n",
       "      <td>Neriah</td>\n",
       "      <td>2019-11-02</td>\n",
       "      <td>MISSING</td>\n",
       "    </tr>\n",
       "    <tr>\n",
       "      <th>2</th>\n",
       "      <td>NaN</td>\n",
       "      <td>Chicago</td>\n",
       "      <td>4</td>\n",
       "      <td>Katelin</td>\n",
       "      <td>2020-01-31</td>\n",
       "      <td>NaN</td>\n",
       "    </tr>\n",
       "    <tr>\n",
       "      <th>3</th>\n",
       "      <td>NaN</td>\n",
       "      <td>Boston</td>\n",
       "      <td>5</td>\n",
       "      <td>Georgiana</td>\n",
       "      <td>2017-04-01</td>\n",
       "      <td>True</td>\n",
       "    </tr>\n",
       "    <tr>\n",
       "      <th>4</th>\n",
       "      <td>NaN</td>\n",
       "      <td>Washington DC</td>\n",
       "      <td>3</td>\n",
       "      <td>Evan</td>\n",
       "      <td>NaT</td>\n",
       "      <td>False</td>\n",
       "    </tr>\n",
       "    <tr>\n",
       "      <th>5</th>\n",
       "      <td>NaN</td>\n",
       "      <td>Las Vegas</td>\n",
       "      <td>11</td>\n",
       "      <td>Paul</td>\n",
       "      <td>2020-01-06</td>\n",
       "      <td>False</td>\n",
       "    </tr>\n",
       "  </tbody>\n",
       "</table>\n",
       "</div>"
      ],
      "text/plain": [
       "   Unnamed: 0          Store  Employees    Manager      Since Flagship\n",
       "0         NaN       New York         10      Sarah 2018-07-20    False\n",
       "1         NaN  San Francisco         12     Neriah 2019-11-02  MISSING\n",
       "2         NaN        Chicago          4    Katelin 2020-01-31      NaN\n",
       "3         NaN         Boston          5  Georgiana 2017-04-01     True\n",
       "4         NaN  Washington DC          3       Evan        NaT    False\n",
       "5         NaN      Las Vegas         11       Paul 2020-01-06    False"
      ]
     },
     "execution_count": 4,
     "metadata": {},
     "output_type": "execute_result"
    }
   ],
   "source": [
    "with xlrd.open_workbook('excel_files/stores.xls', on_demand=True) as book:\n",
    "    with pd.ExcelFile(book, engine='xlrd') as f:\n",
    "        df = pd.read_excel(f, sheet_name=0, skiprows=1)\n",
    "        \n",
    "df"
   ]
  },
  {
   "cell_type": "markdown",
   "id": "f00f1522-05c2-4ceb-80bb-fc545f122368",
   "metadata": {},
   "source": [
    "## Reading with OpenPyXL"
   ]
  },
  {
   "cell_type": "code",
   "execution_count": 5,
   "id": "3d57fedc-8b50-4d89-a1a0-0036668d3f08",
   "metadata": {},
   "outputs": [],
   "source": [
    "book = openpyxl.load_workbook('excel_files/big.xlsx',\n",
    "                              data_only=True,\n",
    "                              read_only=True,\n",
    "                              keep_links=False)  # keep_links=False makes performance faster\n",
    "\n",
    "# Perform the designed read operations here\n",
    "book.close()  # Required with read_only=True"
   ]
  },
  {
   "cell_type": "markdown",
   "id": "bdf19793-d811-4644-8a9f-78c9bfd2c241",
   "metadata": {},
   "source": [
    "## Reading in Parallel "
   ]
  },
  {
   "cell_type": "markdown",
   "id": "8522f7d7-3732-4f41-9854-089875533f77",
   "metadata": {},
   "source": [
    "### Reading by iteration"
   ]
  },
  {
   "cell_type": "code",
   "execution_count": 6,
   "id": "2c0ff20b-a750-4e94-9b4d-860cb937849d",
   "metadata": {},
   "outputs": [
    {
     "name": "stdout",
     "output_type": "stream",
     "text": [
      "CPU times: user 39.8 s, sys: 58.7 ms, total: 39.9 s\n",
      "Wall time: 39.9 s\n"
     ]
    }
   ],
   "source": [
    "%%time\n",
    "data = pd.read_excel('excel_files/big.xlsx', sheet_name=None, engine='openpyxl')"
   ]
  },
  {
   "cell_type": "code",
   "execution_count": 7,
   "id": "ff29fc74-1783-4330-8a97-f27e7db5e226",
   "metadata": {},
   "outputs": [],
   "source": [
    "import parallel_pandas"
   ]
  },
  {
   "cell_type": "markdown",
   "id": "e45001bd-20ce-4bda-8ace-bc63dbb9ba16",
   "metadata": {},
   "source": [
    "### Reading by parallel"
   ]
  },
  {
   "cell_type": "code",
   "execution_count": 8,
   "id": "5a8863ae-4594-4362-9938-6ebddfb2a324",
   "metadata": {},
   "outputs": [
    {
     "name": "stdout",
     "output_type": "stream",
     "text": [
      "CPU times: user 165 ms, sys: 103 ms, total: 268 ms\n",
      "Wall time: 15.2 s\n"
     ]
    }
   ],
   "source": [
    "%%time\n",
    "data = parallel_pandas.read_excel('excel_files/big.xlsx', sheet_name=None)"
   ]
  },
  {
   "cell_type": "markdown",
   "id": "f756afba-bb2f-462e-90a5-5b632dac519f",
   "metadata": {},
   "source": [
    "## Reading with Modin"
   ]
  },
  {
   "cell_type": "code",
   "execution_count": 9,
   "id": "648ff15c-6e07-4ab8-b261-8c393ef510ad",
   "metadata": {},
   "outputs": [],
   "source": [
    "import modin.pandas"
   ]
  },
  {
   "cell_type": "code",
   "execution_count": 12,
   "id": "d3453d07-241b-48cc-a79a-8197f8657269",
   "metadata": {},
   "outputs": [],
   "source": [
    "import os\n",
    "os.environ['MODIN_MEMORY'] = '1073741824'  # 1GB in bytes"
   ]
  },
  {
   "cell_type": "code",
   "execution_count": 13,
   "id": "d45947ba-e206-45fe-86a7-4aab0b5e5e7d",
   "metadata": {},
   "outputs": [
    {
     "name": "stderr",
     "output_type": "stream",
     "text": [
      "UserWarning: Parallel `read_excel` is a new feature! If you run into any problems, please visit https://github.com/modin-project/modin/issues. If you find a new issue and can't file it on GitHub, please email bug_reports@modin.org.\n"
     ]
    },
    {
     "name": "stdout",
     "output_type": "stream",
     "text": [
      "CPU times: user 328 ms, sys: 66 ms, total: 394 ms\n",
      "Wall time: 5.47 s\n"
     ]
    }
   ],
   "source": [
    "%%time\n",
    "data = modin.pandas.read_excel('excel_files/big.xlsx', sheet_name=0, engine='openpyxl')"
   ]
  },
  {
   "cell_type": "markdown",
   "id": "94e4c288-c8eb-4c19-9ef5-14c8018a1361",
   "metadata": {},
   "source": [
    "## Reading with Pandas"
   ]
  },
  {
   "cell_type": "code",
   "execution_count": 14,
   "id": "7866225e-1096-473a-8ec5-732eca15a43c",
   "metadata": {},
   "outputs": [
    {
     "name": "stdout",
     "output_type": "stream",
     "text": [
      "CPU times: user 10.1 s, sys: 10.7 ms, total: 10.1 s\n",
      "Wall time: 10 s\n"
     ]
    }
   ],
   "source": [
    "%%time\n",
    "data = pd.read_excel('excel_files/big.xlsx', sheet_name=0, engine='openpyxl')"
   ]
  },
  {
   "cell_type": "code",
   "execution_count": null,
   "id": "e1e1f9eb-00fd-4db8-aeb7-87a7f6a64533",
   "metadata": {},
   "outputs": [],
   "source": []
  }
 ],
 "metadata": {
  "kernelspec": {
   "display_name": "Python 3 (ipykernel)",
   "language": "python",
   "name": "python3"
  },
  "language_info": {
   "codemirror_mode": {
    "name": "ipython",
    "version": 3
   },
   "file_extension": ".py",
   "mimetype": "text/x-python",
   "name": "python",
   "nbconvert_exporter": "python",
   "pygments_lexer": "ipython3",
   "version": "3.9.12"
  }
 },
 "nbformat": 4,
 "nbformat_minor": 5
}
