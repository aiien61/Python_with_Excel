{
 "cells": [
  {
   "cell_type": "code",
   "execution_count": 1,
   "id": "e76a3867-0435-4a8d-9c91-a955d4e3d341",
   "metadata": {},
   "outputs": [
    {
     "name": "stderr",
     "output_type": "stream",
     "text": [
      "/opt/conda/lib/python3.9/site-packages/pandas/core/computation/expressions.py:21: UserWarning: Pandas requires version '2.8.4' or newer of 'numexpr' (version '2.8.0' currently installed).\n",
      "  from pandas.core.computation.check import NUMEXPR_INSTALLED\n",
      "/opt/conda/lib/python3.9/site-packages/pandas/core/arrays/masked.py:60: UserWarning: Pandas requires version '1.3.6' or newer of 'bottleneck' (version '1.3.4' currently installed).\n",
      "  from pandas.core import (\n"
     ]
    }
   ],
   "source": [
    "import pandas as pd"
   ]
  },
  {
   "cell_type": "code",
   "execution_count": 2,
   "id": "a22ae9e9-e2d0-40c0-bf32-3506442c5dd6",
   "metadata": {},
   "outputs": [
    {
     "data": {
      "text/html": [
       "<div>\n",
       "<style scoped>\n",
       "    .dataframe tbody tr th:only-of-type {\n",
       "        vertical-align: middle;\n",
       "    }\n",
       "\n",
       "    .dataframe tbody tr th {\n",
       "        vertical-align: top;\n",
       "    }\n",
       "\n",
       "    .dataframe thead th {\n",
       "        text-align: right;\n",
       "    }\n",
       "</style>\n",
       "<table border=\"1\" class=\"dataframe\">\n",
       "  <thead>\n",
       "    <tr style=\"text-align: right;\">\n",
       "      <th></th>\n",
       "      <th>Store</th>\n",
       "      <th>Employees</th>\n",
       "      <th>Manager</th>\n",
       "      <th>Since</th>\n",
       "      <th>Flagship</th>\n",
       "    </tr>\n",
       "  </thead>\n",
       "  <tbody>\n",
       "    <tr>\n",
       "      <th>0</th>\n",
       "      <td>New York</td>\n",
       "      <td>10</td>\n",
       "      <td>Sarah</td>\n",
       "      <td>2018-07-20</td>\n",
       "      <td>False</td>\n",
       "    </tr>\n",
       "    <tr>\n",
       "      <th>1</th>\n",
       "      <td>San Francisco</td>\n",
       "      <td>12</td>\n",
       "      <td>Neriah</td>\n",
       "      <td>2019-11-02</td>\n",
       "      <td>MISSING</td>\n",
       "    </tr>\n",
       "    <tr>\n",
       "      <th>2</th>\n",
       "      <td>Chicago</td>\n",
       "      <td>4</td>\n",
       "      <td>Katelin</td>\n",
       "      <td>2020-01-31</td>\n",
       "      <td>NaN</td>\n",
       "    </tr>\n",
       "    <tr>\n",
       "      <th>3</th>\n",
       "      <td>Boston</td>\n",
       "      <td>5</td>\n",
       "      <td>Georgiana</td>\n",
       "      <td>2017-04-01</td>\n",
       "      <td>True</td>\n",
       "    </tr>\n",
       "    <tr>\n",
       "      <th>4</th>\n",
       "      <td>Washington DC</td>\n",
       "      <td>3</td>\n",
       "      <td>Evan</td>\n",
       "      <td>NaT</td>\n",
       "      <td>False</td>\n",
       "    </tr>\n",
       "    <tr>\n",
       "      <th>5</th>\n",
       "      <td>Las Vegas</td>\n",
       "      <td>11</td>\n",
       "      <td>Paul</td>\n",
       "      <td>2020-01-06</td>\n",
       "      <td>False</td>\n",
       "    </tr>\n",
       "  </tbody>\n",
       "</table>\n",
       "</div>"
      ],
      "text/plain": [
       "           Store  Employees    Manager      Since Flagship\n",
       "0       New York         10      Sarah 2018-07-20    False\n",
       "1  San Francisco         12     Neriah 2019-11-02  MISSING\n",
       "2        Chicago          4    Katelin 2020-01-31      NaN\n",
       "3         Boston          5  Georgiana 2017-04-01     True\n",
       "4  Washington DC          3       Evan        NaT    False\n",
       "5      Las Vegas         11       Paul 2020-01-06    False"
      ]
     },
     "execution_count": 2,
     "metadata": {},
     "output_type": "execute_result"
    }
   ],
   "source": [
    "df = pd.read_excel('excel_files/stores.xlsx', sheet_name='2019', skiprows=1, usecols='B:F')\n",
    "\n",
    "df"
   ]
  },
  {
   "cell_type": "code",
   "execution_count": 3,
   "id": "0dbf7b18-2f79-4731-9784-88a29b3e6ff1",
   "metadata": {},
   "outputs": [
    {
     "name": "stdout",
     "output_type": "stream",
     "text": [
      "<class 'pandas.core.frame.DataFrame'>\n",
      "RangeIndex: 6 entries, 0 to 5\n",
      "Data columns (total 5 columns):\n",
      " #   Column     Non-Null Count  Dtype         \n",
      "---  ------     --------------  -----         \n",
      " 0   Store      6 non-null      object        \n",
      " 1   Employees  6 non-null      int64         \n",
      " 2   Manager    6 non-null      object        \n",
      " 3   Since      5 non-null      datetime64[ns]\n",
      " 4   Flagship   5 non-null      object        \n",
      "dtypes: datetime64[ns](1), int64(1), object(3)\n",
      "memory usage: 368.0+ bytes\n"
     ]
    }
   ],
   "source": [
    "df.info()"
   ]
  },
  {
   "cell_type": "markdown",
   "id": "6a14ad5a-a09a-45f5-9160-c425ead2216c",
   "metadata": {},
   "source": [
    "## Fix Flagship column type"
   ]
  },
  {
   "cell_type": "code",
   "execution_count": 4,
   "id": "ad0e21e0-a8fe-4363-8906-17197c3bf42e",
   "metadata": {},
   "outputs": [],
   "source": [
    "def fix_missing(x):\n",
    "    return False if x in ['', 'MISSING'] else x"
   ]
  },
  {
   "cell_type": "code",
   "execution_count": 5,
   "id": "b1cdcb80-4953-4ad1-b7db-c928510ffd2f",
   "metadata": {},
   "outputs": [
    {
     "data": {
      "text/html": [
       "<div>\n",
       "<style scoped>\n",
       "    .dataframe tbody tr th:only-of-type {\n",
       "        vertical-align: middle;\n",
       "    }\n",
       "\n",
       "    .dataframe tbody tr th {\n",
       "        vertical-align: top;\n",
       "    }\n",
       "\n",
       "    .dataframe thead th {\n",
       "        text-align: right;\n",
       "    }\n",
       "</style>\n",
       "<table border=\"1\" class=\"dataframe\">\n",
       "  <thead>\n",
       "    <tr style=\"text-align: right;\">\n",
       "      <th></th>\n",
       "      <th>Store</th>\n",
       "      <th>Employees</th>\n",
       "      <th>Manager</th>\n",
       "      <th>Since</th>\n",
       "      <th>Flagship</th>\n",
       "    </tr>\n",
       "  </thead>\n",
       "  <tbody>\n",
       "    <tr>\n",
       "      <th>0</th>\n",
       "      <td>New York</td>\n",
       "      <td>10</td>\n",
       "      <td>Sarah</td>\n",
       "      <td>2018-07-20</td>\n",
       "      <td>False</td>\n",
       "    </tr>\n",
       "    <tr>\n",
       "      <th>1</th>\n",
       "      <td>San Francisco</td>\n",
       "      <td>12</td>\n",
       "      <td>Neriah</td>\n",
       "      <td>2019-11-02</td>\n",
       "      <td>False</td>\n",
       "    </tr>\n",
       "    <tr>\n",
       "      <th>2</th>\n",
       "      <td>Chicago</td>\n",
       "      <td>4</td>\n",
       "      <td>Katelin</td>\n",
       "      <td>2020-01-31</td>\n",
       "      <td>False</td>\n",
       "    </tr>\n",
       "    <tr>\n",
       "      <th>3</th>\n",
       "      <td>Boston</td>\n",
       "      <td>5</td>\n",
       "      <td>Georgiana</td>\n",
       "      <td>2017-04-01</td>\n",
       "      <td>True</td>\n",
       "    </tr>\n",
       "    <tr>\n",
       "      <th>4</th>\n",
       "      <td>Washington DC</td>\n",
       "      <td>3</td>\n",
       "      <td>Evan</td>\n",
       "      <td>NaT</td>\n",
       "      <td>False</td>\n",
       "    </tr>\n",
       "    <tr>\n",
       "      <th>5</th>\n",
       "      <td>Las Vegas</td>\n",
       "      <td>11</td>\n",
       "      <td>Paul</td>\n",
       "      <td>2020-01-06</td>\n",
       "      <td>False</td>\n",
       "    </tr>\n",
       "  </tbody>\n",
       "</table>\n",
       "</div>"
      ],
      "text/plain": [
       "           Store  Employees    Manager      Since  Flagship\n",
       "0       New York         10      Sarah 2018-07-20     False\n",
       "1  San Francisco         12     Neriah 2019-11-02     False\n",
       "2        Chicago          4    Katelin 2020-01-31     False\n",
       "3         Boston          5  Georgiana 2017-04-01      True\n",
       "4  Washington DC          3       Evan        NaT     False\n",
       "5      Las Vegas         11       Paul 2020-01-06     False"
      ]
     },
     "execution_count": 5,
     "metadata": {},
     "output_type": "execute_result"
    }
   ],
   "source": [
    "df = pd.read_excel('excel_files/stores.xlsx', sheet_name='2019', skiprows=1, usecols='B:F', converters={'Flagship': fix_missing})\n",
    "\n",
    "df"
   ]
  },
  {
   "cell_type": "code",
   "execution_count": 6,
   "id": "48a08f2a-d0d1-41e0-a7f7-6d07d84713c6",
   "metadata": {},
   "outputs": [
    {
     "name": "stdout",
     "output_type": "stream",
     "text": [
      "<class 'pandas.core.frame.DataFrame'>\n",
      "RangeIndex: 6 entries, 0 to 5\n",
      "Data columns (total 5 columns):\n",
      " #   Column     Non-Null Count  Dtype         \n",
      "---  ------     --------------  -----         \n",
      " 0   Store      6 non-null      object        \n",
      " 1   Employees  6 non-null      int64         \n",
      " 2   Manager    6 non-null      object        \n",
      " 3   Since      5 non-null      datetime64[ns]\n",
      " 4   Flagship   6 non-null      bool          \n",
      "dtypes: bool(1), datetime64[ns](1), int64(1), object(2)\n",
      "memory usage: 326.0+ bytes\n"
     ]
    }
   ],
   "source": [
    "# The Flagship column now has Dtype 'bool'\n",
    "df.info()"
   ]
  },
  {
   "cell_type": "markdown",
   "id": "562aa5e3-48da-4315-803d-5f8c9e8f9a72",
   "metadata": {},
   "source": [
    "## Reading all sheets by specifying sheet_name=None\n",
    "## Returning a dictionary with sheet names as keys, dataframes of excel data as values"
   ]
  },
  {
   "cell_type": "code",
   "execution_count": 7,
   "id": "6eb816c7-8682-425b-a7cb-85654e65502c",
   "metadata": {},
   "outputs": [
    {
     "data": {
      "text/plain": [
       "{'2019':            Store  Employees    Manager      Since Flagship\n",
       " 0       New York         10      Sarah 2018-07-20    False\n",
       " 1  San Francisco         12     Neriah 2019-11-02  MISSING\n",
       " 2        Chicago          4    Katelin 2020-01-31      NaN\n",
       " 3         Boston          5  Georgiana 2017-04-01     True\n",
       " 4  Washington DC          3       Evan        NaT    False\n",
       " 5      Las Vegas         11       Paul 2020-01-06    False,\n",
       " '2020':            Store  Employees   Manager      Since Flagship\n",
       " 0       New York         11     Sarah 2018-07-20    False\n",
       " 1  San Francisco         10    Neriah 2019-11-02     True\n",
       " 2        Chicago          5   Katelin 2020-01-31    False\n",
       " 3         Boston          4    Zayyan 2020-04-01      NaN\n",
       " 4  Washington DC          7      Evan        NaT     True\n",
       " 5      Las Vegas          8  Isla-Rae 2020-01-06  MISSING,\n",
       " '2019-2020':              2019 Unnamed: 2 Unnamed: 3           Unnamed: 4 Unnamed: 5\n",
       " 0           Store  Employees    Manager                Since   Flagship\n",
       " 1        New York         10      Sarah  2018-07-20 00:00:00      False\n",
       " 2   San Francisco         12     Neriah  2019-11-02 00:00:00    MISSING\n",
       " 3         Chicago          4    Katelin  2020-01-31 00:00:00        NaN\n",
       " 4          Boston          5  Georgiana  2017-04-01 00:00:00       True\n",
       " 5   Washington DC          3       Evan                  NaN      False\n",
       " 6       Las Vegas         11       Paul  2020-01-06 00:00:00      False\n",
       " 7             NaN        NaN        NaN                  NaN        NaN\n",
       " 8             NaN        NaN        NaN                  NaN        NaN\n",
       " 9             NaN        NaN        NaN                  NaN        NaN\n",
       " 10           2020        NaN        NaN                  NaN        NaN\n",
       " 11          Store  Employees    Manager                Since   Flagship\n",
       " 12       New York         11      Sarah  2018-07-20 00:00:00      False\n",
       " 13  San Francisco         10     Neriah  2019-11-02 00:00:00       True\n",
       " 14        Chicago          5    Katelin  2020-01-31 00:00:00      False\n",
       " 15         Boston          4     Zayyan  2020-04-01 00:00:00        NaN\n",
       " 16  Washington DC          7       Evan                  NaN       True\n",
       " 17      Las Vegas          8   Isla-Rae  2020-01-06 00:00:00    MISSING}"
      ]
     },
     "execution_count": 7,
     "metadata": {},
     "output_type": "execute_result"
    }
   ],
   "source": [
    "pd.read_excel('excel_files/stores.xlsx', sheet_name=None, skiprows=1, usecols='B:F')"
   ]
  },
  {
   "cell_type": "markdown",
   "id": "6f2a001b-0236-4433-b4cd-fae568af047f",
   "metadata": {},
   "source": [
    "## Reading multiple sheets at once"
   ]
  },
  {
   "cell_type": "code",
   "execution_count": 8,
   "id": "5c1c3ec1-1793-4866-b28c-635edff88bd7",
   "metadata": {},
   "outputs": [
    {
     "data": {
      "text/plain": [
       "{'2019':            Store  Employees\n",
       " 0       New York         10\n",
       " 1  San Francisco         12\n",
       " 2        Chicago          4\n",
       " 3         Boston          5\n",
       " 4  Washington DC          3\n",
       " 5      Las Vegas         11,\n",
       " '2020':            Store  Employees\n",
       " 0       New York         11\n",
       " 1  San Francisco         10\n",
       " 2        Chicago          5\n",
       " 3         Boston          4\n",
       " 4  Washington DC          7\n",
       " 5      Las Vegas          8}"
      ]
     },
     "execution_count": 8,
     "metadata": {},
     "output_type": "execute_result"
    }
   ],
   "source": [
    "sheets = pd.read_excel('excel_files/stores.xlsx', sheet_name=['2019', '2020'],\n",
    "                       skiprows=1, usecols=['Store', 'Employees'])\n",
    "\n",
    "sheets"
   ]
  },
  {
   "cell_type": "code",
   "execution_count": 9,
   "id": "75ae1a0c-4e54-4b5e-a2e6-7ecdf4d2071d",
   "metadata": {},
   "outputs": [
    {
     "data": {
      "text/html": [
       "<div>\n",
       "<style scoped>\n",
       "    .dataframe tbody tr th:only-of-type {\n",
       "        vertical-align: middle;\n",
       "    }\n",
       "\n",
       "    .dataframe tbody tr th {\n",
       "        vertical-align: top;\n",
       "    }\n",
       "\n",
       "    .dataframe thead th {\n",
       "        text-align: right;\n",
       "    }\n",
       "</style>\n",
       "<table border=\"1\" class=\"dataframe\">\n",
       "  <thead>\n",
       "    <tr style=\"text-align: right;\">\n",
       "      <th></th>\n",
       "      <th>Store</th>\n",
       "      <th>Employees</th>\n",
       "    </tr>\n",
       "  </thead>\n",
       "  <tbody>\n",
       "    <tr>\n",
       "      <th>0</th>\n",
       "      <td>New York</td>\n",
       "      <td>10</td>\n",
       "    </tr>\n",
       "    <tr>\n",
       "      <th>1</th>\n",
       "      <td>San Francisco</td>\n",
       "      <td>12</td>\n",
       "    </tr>\n",
       "  </tbody>\n",
       "</table>\n",
       "</div>"
      ],
      "text/plain": [
       "           Store  Employees\n",
       "0       New York         10\n",
       "1  San Francisco         12"
      ]
     },
     "execution_count": 9,
     "metadata": {},
     "output_type": "execute_result"
    }
   ],
   "source": [
    "sheets['2019'].head(2)"
   ]
  },
  {
   "cell_type": "markdown",
   "id": "e088db48-c15f-4904-a548-99385e766325",
   "metadata": {},
   "source": [
    "## If no header in excel files"
   ]
  },
  {
   "cell_type": "code",
   "execution_count": 11,
   "id": "88b7867f-5e8f-43bd-8442-6d6433c3f40d",
   "metadata": {},
   "outputs": [
    {
     "data": {
      "text/html": [
       "<div>\n",
       "<style scoped>\n",
       "    .dataframe tbody tr th:only-of-type {\n",
       "        vertical-align: middle;\n",
       "    }\n",
       "\n",
       "    .dataframe tbody tr th {\n",
       "        vertical-align: top;\n",
       "    }\n",
       "\n",
       "    .dataframe thead th {\n",
       "        text-align: right;\n",
       "    }\n",
       "</style>\n",
       "<table border=\"1\" class=\"dataframe\">\n",
       "  <thead>\n",
       "    <tr style=\"text-align: right;\">\n",
       "      <th></th>\n",
       "      <th>Branch</th>\n",
       "      <th>Employee_Count</th>\n",
       "      <th>Is_Flagship</th>\n",
       "    </tr>\n",
       "  </thead>\n",
       "  <tbody>\n",
       "    <tr>\n",
       "      <th>0</th>\n",
       "      <td>New York</td>\n",
       "      <td>10</td>\n",
       "      <td>False</td>\n",
       "    </tr>\n",
       "    <tr>\n",
       "      <th>1</th>\n",
       "      <td>San Francisco</td>\n",
       "      <td>12</td>\n",
       "      <td>MISSING</td>\n",
       "    </tr>\n",
       "    <tr>\n",
       "      <th>2</th>\n",
       "      <td>Chicago</td>\n",
       "      <td>4</td>\n",
       "      <td>NaN</td>\n",
       "    </tr>\n",
       "  </tbody>\n",
       "</table>\n",
       "</div>"
      ],
      "text/plain": [
       "          Branch  Employee_Count Is_Flagship\n",
       "0       New York              10       False\n",
       "1  San Francisco              12     MISSING\n",
       "2        Chicago               4         NaN"
      ]
     },
     "execution_count": 11,
     "metadata": {},
     "output_type": "execute_result"
    }
   ],
   "source": [
    "df = pd.read_excel('excel_files/stores.xlsx', sheet_name=0,\n",
    "                   skiprows=2, skipfooter=3,\n",
    "                   usecols='B:C,F', header=None,\n",
    "                   names=['Branch', 'Employee_Count', 'Is_Flagship'])\n",
    "\n",
    "df"
   ]
  },
  {
   "cell_type": "markdown",
   "id": "ff070164-207c-488a-a675-abc28d148024",
   "metadata": {},
   "source": [
    "## Manipulate NaN by na_values, keep_default_na"
   ]
  },
  {
   "cell_type": "code",
   "execution_count": 12,
   "id": "66645686-68c6-4a8c-a918-65823a21f626",
   "metadata": {},
   "outputs": [
    {
     "data": {
      "text/html": [
       "<div>\n",
       "<style scoped>\n",
       "    .dataframe tbody tr th:only-of-type {\n",
       "        vertical-align: middle;\n",
       "    }\n",
       "\n",
       "    .dataframe tbody tr th {\n",
       "        vertical-align: top;\n",
       "    }\n",
       "\n",
       "    .dataframe thead th {\n",
       "        text-align: right;\n",
       "    }\n",
       "</style>\n",
       "<table border=\"1\" class=\"dataframe\">\n",
       "  <thead>\n",
       "    <tr style=\"text-align: right;\">\n",
       "      <th></th>\n",
       "      <th>Store</th>\n",
       "      <th>Employees</th>\n",
       "      <th>Flagship</th>\n",
       "    </tr>\n",
       "  </thead>\n",
       "  <tbody>\n",
       "    <tr>\n",
       "      <th>0</th>\n",
       "      <td>New York</td>\n",
       "      <td>10</td>\n",
       "      <td>False</td>\n",
       "    </tr>\n",
       "    <tr>\n",
       "      <th>1</th>\n",
       "      <td>San Francisco</td>\n",
       "      <td>12</td>\n",
       "      <td>NaN</td>\n",
       "    </tr>\n",
       "    <tr>\n",
       "      <th>2</th>\n",
       "      <td>Chicago</td>\n",
       "      <td>4</td>\n",
       "      <td></td>\n",
       "    </tr>\n",
       "    <tr>\n",
       "      <th>3</th>\n",
       "      <td>Boston</td>\n",
       "      <td>5</td>\n",
       "      <td>True</td>\n",
       "    </tr>\n",
       "  </tbody>\n",
       "</table>\n",
       "</div>"
      ],
      "text/plain": [
       "           Store  Employees Flagship\n",
       "0       New York         10    False\n",
       "1  San Francisco         12      NaN\n",
       "2        Chicago          4         \n",
       "3         Boston          5     True"
      ]
     },
     "execution_count": 12,
     "metadata": {},
     "output_type": "execute_result"
    }
   ],
   "source": [
    "df = pd.read_excel('excel_files/stores.xlsx', sheet_name='2019',\n",
    "                   skiprows=1, usecols='B,C,F', skipfooter=2,\n",
    "                   na_values='MISSING', keep_default_na=False)\n",
    "\n",
    "df"
   ]
  },
  {
   "cell_type": "markdown",
   "id": "3261b8a4-f871-466a-81ae-f5149d73dc8f",
   "metadata": {},
   "source": [
    "## pandas ExcelFile() is a faster method to read excel files, and able to read .$xls$ files"
   ]
  },
  {
   "cell_type": "code",
   "execution_count": 13,
   "id": "47c9f881-30e4-4447-b5de-c22d16d71dff",
   "metadata": {},
   "outputs": [
    {
     "data": {
      "text/html": [
       "<div>\n",
       "<style scoped>\n",
       "    .dataframe tbody tr th:only-of-type {\n",
       "        vertical-align: middle;\n",
       "    }\n",
       "\n",
       "    .dataframe tbody tr th {\n",
       "        vertical-align: top;\n",
       "    }\n",
       "\n",
       "    .dataframe thead th {\n",
       "        text-align: right;\n",
       "    }\n",
       "</style>\n",
       "<table border=\"1\" class=\"dataframe\">\n",
       "  <thead>\n",
       "    <tr style=\"text-align: right;\">\n",
       "      <th></th>\n",
       "      <th>Store</th>\n",
       "      <th>Employees</th>\n",
       "      <th>Manager</th>\n",
       "      <th>Since</th>\n",
       "      <th>Flagship</th>\n",
       "    </tr>\n",
       "  </thead>\n",
       "  <tbody>\n",
       "    <tr>\n",
       "      <th>0</th>\n",
       "      <td>New York</td>\n",
       "      <td>10</td>\n",
       "      <td>Sarah</td>\n",
       "      <td>2018-07-20</td>\n",
       "      <td>False</td>\n",
       "    </tr>\n",
       "    <tr>\n",
       "      <th>1</th>\n",
       "      <td>San Francisco</td>\n",
       "      <td>12</td>\n",
       "      <td>Neriah</td>\n",
       "      <td>2019-11-02</td>\n",
       "      <td>MISSING</td>\n",
       "    </tr>\n",
       "  </tbody>\n",
       "</table>\n",
       "</div>"
      ],
      "text/plain": [
       "           Store  Employees Manager      Since Flagship\n",
       "0       New York         10   Sarah 2018-07-20    False\n",
       "1  San Francisco         12  Neriah 2019-11-02  MISSING"
      ]
     },
     "execution_count": 13,
     "metadata": {},
     "output_type": "execute_result"
    }
   ],
   "source": [
    "with pd.ExcelFile('excel_files/stores.xls') as f:\n",
    "    df1 = pd.read_excel(f, '2019', skiprows=1, usecols='B:F', nrows=2)\n",
    "    df2 = pd.read_excel(f, '2020', skiprows=1, usecols='B:F', nrows=2)\n",
    "    \n",
    "df1"
   ]
  },
  {
   "cell_type": "markdown",
   "id": "b4a95a61-1f7f-4e75-8517-96a3d6c498a6",
   "metadata": {},
   "source": [
    "## Reading all sheet names by ExcelFile"
   ]
  },
  {
   "cell_type": "code",
   "execution_count": 14,
   "id": "123a411d-46d9-4913-9871-26fa1e8e2ac9",
   "metadata": {},
   "outputs": [
    {
     "data": {
      "text/plain": [
       "['2019', '2020', '2019-2020']"
      ]
     },
     "execution_count": 14,
     "metadata": {},
     "output_type": "execute_result"
    }
   ],
   "source": [
    "stores = pd.ExcelFile('excel_files/stores.xls')\n",
    "stores.sheet_names"
   ]
  },
  {
   "cell_type": "markdown",
   "id": "7fa946e8-a842-4dda-8b76-31dff7ff6c18",
   "metadata": {},
   "source": [
    "## Reading URL to access Excel files"
   ]
  },
  {
   "cell_type": "code",
   "execution_count": 16,
   "id": "b41f279f-f038-461f-93d6-72a48e2db2ac",
   "metadata": {},
   "outputs": [
    {
     "data": {
      "text/html": [
       "<div>\n",
       "<style scoped>\n",
       "    .dataframe tbody tr th:only-of-type {\n",
       "        vertical-align: middle;\n",
       "    }\n",
       "\n",
       "    .dataframe tbody tr th {\n",
       "        vertical-align: top;\n",
       "    }\n",
       "\n",
       "    .dataframe thead th {\n",
       "        text-align: right;\n",
       "    }\n",
       "</style>\n",
       "<table border=\"1\" class=\"dataframe\">\n",
       "  <thead>\n",
       "    <tr style=\"text-align: right;\">\n",
       "      <th></th>\n",
       "      <th>Store</th>\n",
       "      <th>Employees</th>\n",
       "      <th>Manager</th>\n",
       "      <th>Since</th>\n",
       "    </tr>\n",
       "  </thead>\n",
       "  <tbody>\n",
       "    <tr>\n",
       "      <th>0</th>\n",
       "      <td>New York</td>\n",
       "      <td>10</td>\n",
       "      <td>Sarah</td>\n",
       "      <td>2018-07-20</td>\n",
       "    </tr>\n",
       "    <tr>\n",
       "      <th>1</th>\n",
       "      <td>San Francisco</td>\n",
       "      <td>12</td>\n",
       "      <td>Neriah</td>\n",
       "      <td>2019-11-02</td>\n",
       "    </tr>\n",
       "  </tbody>\n",
       "</table>\n",
       "</div>"
      ],
      "text/plain": [
       "           Store  Employees Manager      Since\n",
       "0       New York         10   Sarah 2018-07-20\n",
       "1  San Francisco         12  Neriah 2019-11-02"
      ]
     },
     "execution_count": 16,
     "metadata": {},
     "output_type": "execute_result"
    }
   ],
   "source": [
    "url = (\"https://raw.githubusercontent.com/fzumstein/python-for-excel/1st-edition/xl/stores.xlsx\")\n",
    "pd.read_excel(url, skiprows=1, usecols='B:E', nrows=2)"
   ]
  },
  {
   "cell_type": "code",
   "execution_count": null,
   "id": "289199c2-088a-489a-9f40-c2565c4f585e",
   "metadata": {},
   "outputs": [],
   "source": []
  }
 ],
 "metadata": {
  "kernelspec": {
   "display_name": "Python 3 (ipykernel)",
   "language": "python",
   "name": "python3"
  },
  "language_info": {
   "codemirror_mode": {
    "name": "ipython",
    "version": 3
   },
   "file_extension": ".py",
   "mimetype": "text/x-python",
   "name": "python",
   "nbconvert_exporter": "python",
   "pygments_lexer": "ipython3",
   "version": "3.9.12"
  }
 },
 "nbformat": 4,
 "nbformat_minor": 5
}
